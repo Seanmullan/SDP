{
 "cells": [
  {
   "cell_type": "markdown",
   "metadata": {},
   "source": [
    "using cv2.absdiff to directly subtract"
   ]
  },
  {
   "cell_type": "code",
   "execution_count": null,
   "metadata": {},
   "outputs": [],
   "source": [
    "import cv2\n",
    "import numpy as np\n",
    "from matplotlib import pyplot as plt"
   ]
  },
  {
   "cell_type": "code",
   "execution_count": null,
   "metadata": {},
   "outputs": [],
   "source": [
    "img_ori = cv2.imread('/afs/inf.ed.ac.uk/user/s18/s1891132/Downloads/p_ori.jpg')\n",
    "img_new = cv2.imread('/afs/inf.ed.ac.uk/user/s18/s1891132/Downloads/p_new.jpg')"
   ]
  },
  {
   "cell_type": "code",
   "execution_count": null,
   "metadata": {},
   "outputs": [],
   "source": [
    "img_ori.dtype"
   ]
  },
  {
   "cell_type": "code",
   "execution_count": null,
   "metadata": {},
   "outputs": [],
   "source": [
    "diff = cv2.absdiff(img_ori, img_new)\n",
    "hsv_diff = cv2.cvtColor(diff,cv2.COLOR_BGR2HSV)"
   ]
  },
  {
   "cell_type": "code",
   "execution_count": null,
   "metadata": {},
   "outputs": [],
   "source": [
    "lower = np.array([0,0,0])\n",
    "upper=np.array([180,255,30])\n",
    "mask=cv2.inRange(diff,lower,upper)"
   ]
  },
  {
   "cell_type": "code",
   "execution_count": null,
   "metadata": {},
   "outputs": [],
   "source": [
    "res = cv2.bitwise_not(diff,diff, mask= mask)"
   ]
  },
  {
   "cell_type": "code",
   "execution_count": null,
   "metadata": {},
   "outputs": [],
   "source": [
    "#plot the histogram\n",
    "\n",
    "color = ('b','g','r')\n",
    "thr=np.zeros(3)\n",
    "for i,col in enumerate(color):\n",
    "    histr = cv2.calcHist([diff],[i],None,[256],[0,256])\n",
    "    thr[i]=np.argmax(histr)\n",
    "    plt.plot(histr,color = col)\n",
    "    plt.xlim([0,256])\n",
    "plt.show()"
   ]
  },
  {
   "cell_type": "code",
   "execution_count": null,
   "metadata": {},
   "outputs": [],
   "source": [
    "lower = np.array([0,0,0])\n",
    "upper=np.array([50,50,50])\n",
    "mask=cv2.inRange(diff,lower,upper)"
   ]
  },
  {
   "cell_type": "code",
   "execution_count": null,
   "metadata": {},
   "outputs": [],
   "source": [
    "res = cv2.bitwise_not(diff,diff, mask= mask)"
   ]
  },
  {
   "cell_type": "code",
   "execution_count": null,
   "metadata": {},
   "outputs": [],
   "source": [
    "res_resize = cv2.resize(res, (450, 600)) \n",
    "cv2.imshow('res',res_resize)\n",
    "cv2.waitKey(10)"
   ]
  },
  {
   "cell_type": "markdown",
   "metadata": {},
   "source": [
    "Try using cv.bgsegm.createBackgroundSubtractorMOG() (default BGS by openCV)"
   ]
  },
  {
   "cell_type": "code",
   "execution_count": null,
   "metadata": {},
   "outputs": [],
   "source": [
    "import numpy as np\n",
    "import cv2 as cv\n",
    "cap = cv.VideoCapture('/afs/inf.ed.ac.uk/user/s18/s1891132/Downloads/sub.mov')\n",
    "fgbg = cv.bgsegm.createBackgroundSubtractorMOG()\n",
    "while(1):\n",
    "    ret, frame = cap.read()\n",
    "    fgmask = fgbg.apply(frame)\n",
    "    cv.imshow('frame',fgmask)\n",
    "    k = cv.waitKey(30) & 0xff\n",
    "    if k == 27:\n",
    "        break\n",
    "cap.release()\n",
    "cv.destroyAllWindows()"
   ]
  },
  {
   "cell_type": "markdown",
   "metadata": {},
   "source": [
    "Try to find the contours of the object"
   ]
  },
  {
   "cell_type": "code",
   "execution_count": null,
   "metadata": {},
   "outputs": [],
   "source": [
    "import cv2\n",
    "import numpy as np\n",
    "image= cv2.imread('/afs/inf.ed.ac.uk/user/s18/s1891132/Downloads/spirit_new.jpg')\n",
    "image = cv2.resize(image, (450, 600)) \n",
    "blurred=cv2.pyrMeanShiftFiltering(image,31,91)\n",
    "gray=cv2.cvtColor(blurred,cv2.COLOR_BGR2GRAY)\n",
    "ret,threshold=cv2.threshold(gray,0,255,cv2.THRESH_BINARY+cv2.THRESH_OTSU)\n",
    "contours,hierarchy=cv2.findContours(threshold,cv2.RETR_LIST,cv2.CHAIN_APPROX_NONE)\n",
    "print(len(contours))\n",
    "cv2.drawContours(image,contours,0,(0,0,255),6)\n",
    "cv2.imshow('Display',image)\n",
    "cv2.waitKey(10)"
   ]
  },
  {
   "cell_type": "markdown",
   "metadata": {},
   "source": [
    "Using cv2.grabcut"
   ]
  },
  {
   "cell_type": "code",
   "execution_count": null,
   "metadata": {},
   "outputs": [],
   "source": [
    "def draw_keypoints(vis, keypoints, color = (0, 255, 255)):\n",
    "    for kp in keypoints:\n",
    "            x, y = kp.pt\n",
    "            cv2.circle(vis, (int(x), int(y)), 2, color)"
   ]
  },
  {
   "cell_type": "code",
   "execution_count": null,
   "metadata": {},
   "outputs": [],
   "source": [
    "import numpy as np\n",
    "import cv2\n",
    "from matplotlib import pyplot as plt \n",
    "img = cv2.imread('/afs/inf.ed.ac.uk/user/s18/s1891132/Downloads/sdp/pic3.jpg')\n",
    "mask = np.zeros(img.shape[:2],np.uint8)\n",
    "bgdModel = np.zeros((1,65),np.float64)\n",
    "fgdModel = np.zeros((1,65),np.float64)\n",
    "rect = (50,103,400,230)\n",
    "cv2.grabCut(img,mask,rect,bgdModel,fgdModel,5,cv2.GC_INIT_WITH_RECT)\n",
    "mask2 = np.where((mask==2)|(mask==0),0,1).astype('uint8')\n",
    "img = img*mask2[:,:,np.newaxis]\n",
    "\n",
    "lower_bound = np.array([0, 0, 0])\n",
    "upper_bound = np.array([30, 30, 30])\n",
    "mask = cv2.inRange(img, lower_bound, upper_bound)\n",
    "mask_inv = cv2.bitwise_not(mask)\n",
    "fg = cv2.bitwise_and(img, img, mask=mask_inv)\n",
    "fg[mask == 255] = (255, 255, 255)\n",
    "\n",
    " # find center of mass to track whether the object is located \n",
    "gray_image = cv2.cvtColor(fg, cv2.COLOR_BGR2GRAY)\n",
    "ret,thresh = cv2.threshold(gray_image,127,255,1)\n",
    "M = cv2.moments(thresh)\n",
    "    \n",
    "    #there may be bugs here.... M[\"m00\"]\n",
    "cX = int(M[\"m10\"] / M[\"m00\"])\n",
    "\n",
    "cY = int(M[\"m01\"] / M[\"m00\"])\n",
    "    #compare (cX,cY) with the coordinate of the center to decide whether to use this iamge or not\n",
    "    #..unfinished code\n",
    "\n",
    "    \n",
    "    # put text and highlight the center\n",
    "cv2.circle(fg, (cX, cY), 5, (255, 255, 255), -1)\n",
    "cv2.putText(fg, \"centroid\", (cX - 25, cY - 25),cv2.FONT_HERSHEY_SIMPLEX, 0.5, (255, 255, 255), 2)\n",
    "\n",
    "cv2.imshow(\"img\",fg)\n",
    "cv2.waitKey(0)"
   ]
  },
  {
   "cell_type": "code",
   "execution_count": null,
   "metadata": {},
   "outputs": [],
   "source": [
    "fgs =cv2.cvtColor(fg, cv2.COLOR_BGR2GRAY)\n",
    "hist = cv2.calcHist([fgs],[0],None,[256],[0,256])\n",
    "plt.hist(fgs.ravel(),256,[0,256])\n",
    "plt.ylim((0,1000))\n",
    "plt.show()"
   ]
  }
 ],
 "metadata": {
  "kernelspec": {
   "display_name": "Python 2",
   "language": "python",
   "name": "python2"
  },
  "language_info": {
   "codemirror_mode": {
    "name": "ipython",
    "version": 2
   },
   "file_extension": ".py",
   "mimetype": "text/x-python",
   "name": "python",
   "nbconvert_exporter": "python",
   "pygments_lexer": "ipython2",
   "version": "2.7.5"
  }
 },
 "nbformat": 4,
 "nbformat_minor": 2
}
