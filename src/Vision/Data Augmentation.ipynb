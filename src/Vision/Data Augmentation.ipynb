{
 "cells": [
  {
   "cell_type": "markdown",
   "metadata": {},
   "source": [
    "Using Keras to conduct Data Augmentation to amplify the dataset we collect as well as the online one we use."
   ]
  },
  {
   "cell_type": "code",
   "execution_count": null,
   "metadata": {},
   "outputs": [],
   "source": [
    "import cv2\n",
    "from matplotlib import pyplot as plt\n",
    "import numpy as np\n",
    "import keras"
   ]
  },
  {
   "cell_type": "code",
   "execution_count": null,
   "metadata": {},
   "outputs": [],
   "source": [
    "from keras.preprocessing.image import ImageDataGenerator, array_to_img, img_to_array, load_img\n",
    "\n",
    "datagen = ImageDataGenerator(\n",
    "    rotation_range=180,\n",
    "    width_shift_range=0,\n",
    "    height_shift_range=0, \n",
    "    shear_range=0, \n",
    "    zoom_range=[0.8,0.8],\n",
    "    brightness_range=[0.75,1.2],\n",
    "    horizontal_flip=True,\n",
    "    fill_mode='nearest')\n",
    "\n",
    "for i in range (1,6):\n",
    "    img_path='/afs/inf.ed.ac.uk/user/s18/s1891132/Downloads/test_clean/test/glass/image ('+str(i)+').png'\n",
    "    img = load_img(img_path)\n",
    "    x = img_to_array(img)  # this is a Numpy array with shape (3, 150, 150)\n",
    "    x = x.reshape((1,) + x.shape)  # this is a Numpy array with shape (1, 3, 150, 150)\n",
    "\n",
    "# the .flow() command below generates batches of randomly transformed images\n",
    "# and saves the results to the `preview/` directory\n",
    "    j = 0\n",
    "    for batch in datagen.flow(x, batch_size=1,\n",
    "                              save_to_dir='/afs/inf.ed.ac.uk/user/s18/s1891132/Downloads/test_clean/test/glass_done_test',\n",
    "                              save_prefix='glass', save_format='jpeg'):\n",
    "        j += 1\n",
    "        if j >= 33:\n",
    "            break  # otherwise the generator would loop indefinitely"
   ]
  },
  {
   "cell_type": "code",
   "execution_count": null,
   "metadata": {},
   "outputs": [],
   "source": [
    "from keras.preprocessing.image import ImageDataGenerator, array_to_img, img_to_array, load_img\n",
    "\n",
    "datagen = ImageDataGenerator(\n",
    "    rotation_range=180,\n",
    "    width_shift_range=0,\n",
    "    height_shift_range=0, \n",
    "    shear_range=0, \n",
    "    zoom_range=[0.8,0.8],\n",
    "    brightness_range=[0.75,1.2],\n",
    "    horizontal_flip=True,\n",
    "    fill_mode='nearest')\n",
    "\n",
    "for i in range (1,19):\n",
    "    img_path='/afs/inf.ed.ac.uk/user/s18/s1891132/Downloads/test_clean/test/plastic/image ('+str(i)+').png'\n",
    "    img = load_img(img_path)\n",
    "    x = img_to_array(img)  # this is a Numpy array with shape (3, 150, 150)\n",
    "    x = x.reshape((1,) + x.shape)  # this is a Numpy array with shape (1, 3, 150, 150)\n",
    "\n",
    "# the .flow() command below generates batches of randomly transformed images\n",
    "# and saves the results to the `preview/` directory\n",
    "    j = 0\n",
    "    for batch in datagen.flow(x, batch_size=1,\n",
    "                              save_to_dir='/afs/inf.ed.ac.uk/user/s18/s1891132/Downloads/test_clean/test/plastic_done_test',\n",
    "                              save_prefix='plastic', save_format='jpeg'):\n",
    "        j += 1\n",
    "        if j >= 10:\n",
    "            break  # otherwise the generator would loop indefinitely"
   ]
  },
  {
   "cell_type": "code",
   "execution_count": null,
   "metadata": {},
   "outputs": [],
   "source": [
    "from keras.preprocessing.image import ImageDataGenerator, array_to_img, img_to_array, load_img\n",
    "\n",
    "datagen = ImageDataGenerator(\n",
    "    rotation_range=180,\n",
    "    width_shift_range=0,\n",
    "    height_shift_range=0, \n",
    "    shear_range=0, \n",
    "    zoom_range=[0.8,0.8],\n",
    "    brightness_range=[0.75,1.2],\n",
    "    horizontal_flip=True,\n",
    "    fill_mode='nearest')\n",
    "\n",
    "for i in range (1,10):\n",
    "    img_path='/afs/inf.ed.ac.uk/user/s18/s1891132/Downloads/test_clean/test/metal/image ('+str(i)+').png'\n",
    "    img = load_img(img_path)\n",
    "    x = img_to_array(img)  # this is a Numpy array with shape (3, 150, 150)\n",
    "    x = x.reshape((1,) + x.shape)  # this is a Numpy array with shape (1, 3, 150, 150)\n",
    "\n",
    "# the .flow() command below generates batches of randomly transformed images\n",
    "# and saves the results to the `preview/` directory\n",
    "    j = 0\n",
    "    for batch in datagen.flow(x, batch_size=1,\n",
    "                              save_to_dir='/afs/inf.ed.ac.uk/user/s18/s1891132/Downloads/test_clean/test/metal_done_test',\n",
    "                              save_prefix='metal', save_format='jpeg'):\n",
    "        j += 1\n",
    "        if j >= 19:\n",
    "            break  # otherwise the generator would loop indefinitely"
   ]
  }
 ],
 "metadata": {
  "kernelspec": {
   "display_name": "Python 2",
   "language": "python",
   "name": "python2"
  },
  "language_info": {
   "codemirror_mode": {
    "name": "ipython",
    "version": 2
   },
   "file_extension": ".py",
   "mimetype": "text/x-python",
   "name": "python",
   "nbconvert_exporter": "python",
   "pygments_lexer": "ipython2",
   "version": "2.7.15"
  }
 },
 "nbformat": 4,
 "nbformat_minor": 2
}
