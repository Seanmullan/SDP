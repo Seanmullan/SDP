{
  "nbformat": 4,
  "nbformat_minor": 0,
  "metadata": {
    "colab": {
      "name": "Copy of colab_vgg_direct_save_top_model.ipynb",
      "version": "0.3.2",
      "provenance": [],
      "collapsed_sections": [],
      "include_colab_link": true
    },
    "kernelspec": {
      "name": "python3",
      "display_name": "Python 3"
    },
    "accelerator": "GPU"
  },
  "cells": [
    {
      "cell_type": "markdown",
      "metadata": {
        "id": "view-in-github",
        "colab_type": "text"
      },
      "source": [
        "<a href=\"https://colab.research.google.com/github/Seanmullan/SDP/blob/vision/Copy_of_colab_vgg_direct_save_top_model.ipynb\" target=\"_parent\"><img src=\"https://colab.research.google.com/assets/colab-badge.svg\" alt=\"Open In Colab\"/></a>"
      ]
    },
    {
      "metadata": {
        "id": "hO3reLsQnIAn",
        "colab_type": "code",
        "outputId": "a9c10746-5bfb-4d08-8fad-5930af691f71",
        "colab": {
          "base_uri": "https://localhost:8080/",
          "height": 141
        }
      },
      "cell_type": "code",
      "source": [
        "import tensorflow as tf\n",
        "import numpy as np\n",
        "import os\n",
        "import time\n",
        "import matplotlib.pyplot as plt\n",
        "import pickle\n",
        "from tensorflow.keras import optimizers\n",
        "from tensorflow.keras import regularizers\n",
        "from tensorflow.keras.applications.resnet50 import ResNet50\n",
        "from tensorflow.keras.applications.vgg16 import VGG16\n",
        "from tensorflow.keras import applications\n",
        "\n",
        "from tensorflow.keras.preprocessing import image\n",
        "from tensorflow.keras.layers import GlobalAveragePooling2D, Dense, Dropout,Activation,Flatten\n",
        "from keras.preprocessing.image import ImageDataGenerator, array_to_img, img_to_array, load_img\n",
        "from keras.applications.imagenet_utils import preprocess_input\n",
        "from tensorflow.keras.layers import Input\n",
        "from tensorflow.keras.models import Model\n",
        "from keras.utils import np_utils\n",
        "from sklearn.utils import shuffle\n",
        "from sklearn.model_selection import train_test_split\n",
        "from google.colab import drive\n",
        "drive.mount('/content/gdrive', force_remount=True)"
      ],
      "execution_count": 1,
      "outputs": [
        {
          "output_type": "stream",
          "text": [
            "Using TensorFlow backend.\n"
          ],
          "name": "stderr"
        },
        {
          "output_type": "stream",
          "text": [
            "Go to this URL in a browser: https://accounts.google.com/o/oauth2/auth?client_id=947318989803-6bn6qk8qdgf4n4g3pfee6491hc0brc4i.apps.googleusercontent.com&redirect_uri=urn%3Aietf%3Awg%3Aoauth%3A2.0%3Aoob&scope=email%20https%3A%2F%2Fwww.googleapis.com%2Fauth%2Fdocs.test%20https%3A%2F%2Fwww.googleapis.com%2Fauth%2Fdrive%20https%3A%2F%2Fwww.googleapis.com%2Fauth%2Fdrive.photos.readonly%20https%3A%2F%2Fwww.googleapis.com%2Fauth%2Fpeopleapi.readonly&response_type=code\n",
            "\n",
            "Enter your authorization code:\n",
            "··········\n",
            "Mounted at /content/gdrive\n"
          ],
          "name": "stdout"
        }
      ]
    },
    {
      "metadata": {
        "id": "OxW6TcO9nZ2X",
        "colab_type": "code",
        "colab": {}
      },
      "cell_type": "code",
      "source": [
        "# with open('/content/gdrive/My Drive/foo.txt', 'w') as f:\n",
        "#   f.write('Hello Google Drive!')\n",
        "# !cat /content/gdrive/My\\ Drive/foo.txt\n",
        "!pip install -U -q PyDrive\n",
        "from pydrive.auth import GoogleAuth\n",
        "from pydrive.drive import GoogleDrive\n",
        "from google.colab import auth\n",
        "from oauth2client.client import GoogleCredentials\n",
        "\n",
        "# 1. Authenticate and create the PyDrive client.\n",
        "auth.authenticate_user()\n",
        "gauth = GoogleAuth()\n",
        "gauth.credentials = GoogleCredentials.get_application_default()\n",
        "drive2 = GoogleDrive(gauth)"
      ],
      "execution_count": 0,
      "outputs": []
    },
    {
      "metadata": {
        "id": "D8fFl39w5x7G",
        "colab_type": "code",
        "colab": {}
      },
      "cell_type": "code",
      "source": [
        "import numpy as np\n",
        "import cv2\n",
        "from matplotlib import pyplot as plt \n",
        "img = cv2.imread('/afs/inf.ed.ac.uk/user/s18/s1891132/Downloads/testgrab.jpg')\n",
        "mask = np.zeros(img.shape[:2],np.uint8)\n",
        "bgdModel = np.zeros((1,65),np.float64)\n",
        "fgdModel = np.zeros((1,65),np.float64)\n",
        "rect = (50,50,200,550)\n",
        "cv2.grabCut(img,mask,rect,bgdModel,fgdModel,5,cv2.GC_INIT_WITH_RECT)\n",
        "mask2 = np.where((mask==2)|(mask==0),0,1).astype('uint8')\n",
        "img = img*mask2[:,:,np.newaxis]\n",
        "\n",
        "lower_bound = np.array([0, 0, 0])\n",
        "upper_bound = np.array([30, 30, 30])\n",
        "mask = cv2.inRange(img, lower_bound, upper_bound)\n",
        "mask_inv = cv2.bitwise_not(mask)\n",
        "fg = cv2.bitwise_and(img, img, mask=mask_inv)\n",
        "fg[mask == 255] = (255, 255, 255)\n",
        "\n",
        "cv2.imshow(\"img\",fg)\n",
        "cv2.waitKey(0)"
      ],
      "execution_count": 0,
      "outputs": []
    },
    {
      "metadata": {
        "id": "6N6XO1ihpGMH",
        "colab_type": "code",
        "colab": {}
      },
      "cell_type": "code",
      "source": [
        "\n",
        "# img_data_list=[]\n",
        "# classsize = []\n",
        "# for dataset in data_dir_list:\n",
        "#     img_list=os.listdir(data_path+'/'+ dataset)\n",
        "#     classsize.append(len(img_list))\n",
        "#     print ('Loaded the images of dataset-'+'{}\\n'.format(dataset))\n",
        "#     for img in img_list:\n",
        "#         img_path = data_path + '/'+ dataset + '/'+ img\n",
        "#         img = image.load_img(img_path, target_size=(224, 224))\n",
        "#         x = image.img_to_array(img)\n",
        "#         x = np.expand_dims(x, axis=0)\n",
        "#         x = preprocess_input(x)\n",
        "#         #x = x/255 should we do this in preprocession?\n",
        "#         #print('Input image shape:', x.shape)\n",
        "#         img_data_list.append(x)\n",
        "\n",
        "# # x is the last vector of the image\n",
        "# #print(x)\n",
        "# img_data = np.array(img_data_list)\n",
        "# #img_data = img_data.astype('float32')\n",
        "# print (img_data.shape)\n",
        "# img_data=np.rollaxis(img_data,1,0)\n",
        "# print (img_data.shape)\n",
        "# img_data=img_data[0]\n",
        "# print (img_data.shape)\n"
      ],
      "execution_count": 0,
      "outputs": []
    },
    {
      "metadata": {
        "id": "jBlR7NoOaWfD",
        "colab_type": "code",
        "colab": {}
      },
      "cell_type": "code",
      "source": [
        "# from google.colab import files\n",
        "# uploaded = files.upload()\n",
        "\n",
        "# from keras.models import load_model\n",
        "# model = load_model('model.h5')"
      ],
      "execution_count": 0,
      "outputs": []
    },
    {
      "metadata": {
        "id": "TmqtgJecpyWK",
        "colab_type": "code",
        "outputId": "d91ce8e7-b7d1-4e39-d608-c1dccb8c3518",
        "colab": {
          "base_uri": "https://localhost:8080/",
          "height": 34
        }
      },
      "cell_type": "code",
      "source": [
        "\n",
        "# Define the number of classes change this code condition to the number of classes.\n",
        "# Loading the training data\n",
        "PATH = os.getcwd()\n",
        "print(PATH)\n",
        "# Define data path\n",
        "data_path = PATH + '/gdrive/My Drive/sdp/dataset_new'\n",
        "data_dir_list =['glass', 'metal',  'plastic' ] # LETS  start with the sample version \n",
        "data_dir_list_testintrain =['glass_done', 'metal_done',  'plastic_done' ] # LETS  start with the sample version \n",
        "\n",
        "#define parameters here\n",
        "img_width, img_height = 150, 150\n",
        "\n",
        "epochs = 80\n",
        "batch_size = 32\n",
        "train_data_dir = data_path+'/train_gray'\n",
        "validation_data_dir = data_path+'/validation_gray'\n",
        "testing_data_dir = data_path + \"/wholeset\"\n",
        "\n",
        "#check dataset size\n",
        "classsize = []\n",
        "for dataset in data_dir_list:\n",
        "    img_list=os.listdir(train_data_dir+'/'+ dataset)\n",
        "    classsize.append(len(img_list))\n",
        "# for dataset in data_dir_list:\n",
        "#     img_list=os.listdir(testing_data_dir+'/'+ dataset)\n",
        "#     classsize.append(len(img_list))\n",
        "\n",
        "#assign labels    \n",
        "num_classes = 3\n",
        "train_labels = np.ones((np.sum(classsize),),dtype='int64')\n",
        "train_labels[0:classsize[0]]=0\n",
        "train_labels[classsize[0]:classsize[0]+classsize[1]]=1\n",
        "train_labels[classsize[0]+classsize[1]:]=2\n",
        "\n",
        "# !!!!! this part only is added for the test set in training set.!!!!!\n",
        "# train_labels[np.sum(classsize[:3]):np.sum(classsize[:4])]=0\n",
        "# train_labels[np.sum(classsize[:4]):np.sum(classsize[:5])]=1\n",
        "# train_labels[np.sum(classsize[:5]):]=2\n",
        "\n",
        "nb_train_samples = np.sum(classsize)\n",
        "\n",
        "\n",
        "\n",
        "classsize = []\n",
        "for dataset in data_dir_list:\n",
        "    img_list=os.listdir(validation_data_dir+'/'+ dataset)\n",
        "    classsize.append(len(img_list))\n",
        "    \n",
        "validation_labels = np.ones((np.sum(classsize),),dtype='int64')\n",
        "validation_labels[0:classsize[0]]=0\n",
        "validation_labels[classsize[0]:classsize[0]+classsize[1]]=1\n",
        "validation_labels[classsize[0]+classsize[1]:]=2\n",
        "names = ['glass', 'metal',  'plastic' ]\n",
        "\n",
        "\n",
        "nb_validation_samples = np.sum(classsize)\n",
        "\n",
        "\n",
        "classsize = []\n",
        "for dataset in data_dir_list:\n",
        "    img_list=os.listdir(testing_data_dir+'/'+ dataset)\n",
        "    classsize.append(len(img_list))\n",
        "    \n",
        "test_labels = np.ones((np.sum(classsize),),dtype='int64')\n",
        "test_labels[0:classsize[0]]=0\n",
        "test_labels[classsize[0]:classsize[0]+classsize[1]]=1\n",
        "test_labels[classsize[0]+classsize[1]:]=2\n",
        "names = ['glass', 'metal',  'plastic' ]\n",
        "\n",
        "\n",
        "nb_testing_samples = np.sum(classsize)\n",
        "\n",
        "\n",
        "# convert class labels to on-hot encoding\n",
        "Y_train = np_utils.to_categorical(train_labels, num_classes)\n",
        "Y_validation = np_utils.to_categorical(validation_labels, num_classes)\n",
        "\n",
        "Y_test = np_utils.to_categorical(test_labels, num_classes)\n",
        "# #Shuffle the dataset\n",
        "# x,y = shuffle(img_data,Y, random_state=2)\n",
        "# # Split the dataset\n",
        "# X_train, X_test, y_train, y_test = train_test_split(x, y, test_size=0.2, random_state=2)\n",
        "\n",
        "\n",
        "\n",
        "\n",
        "\n",
        "\n",
        "#define all strings here:\n",
        "\n",
        "\n",
        "\n",
        "bottleneck_train_name=\"bottleneck_features_vgg_validation_20190312.npy\"\n",
        "bottleneck_validation_name=\"bottleneck_features_vgg_train_20190312.npy\"\n",
        "bottleneck_test_name=\"bottleneck_features_vgg_test_20190312.npy\"\n",
        "\n",
        "top_model_weights_path = 'vgg_top_model_weight_20190312.h5'\n",
        "top_model_name='vgg_top_model_20190312.h5'\n",
        "top_model_train_history='history_vgg_top_model_20190312.npy'\n",
        "top_model_weights_path_test = 'vgg_top_model_weight_test_20190312.h5'\n",
        "top_model_name_test='vgg_top_model_test_20190312.h5'\n",
        "top_model_train_history_test='history_vgg_top_model_test_20190312.npy'\n",
        "\n",
        "retrain_model_name='vgg16_retrain_model_20190312.h5'\n",
        "retrain_model_weight=\"vgg_retrain_weight_20190312.h5\"\n",
        "retrain_model_history='vgg_retrain_history_20190312.npy'\n",
        "retrain_model_name_test='vgg16_retrain_model_test_20190312.h5'\n",
        "retrain_model_weight_test=\"vgg_retrain_weight_test_20190312.h5\"\n",
        "retrain_model_history_test='vgg_retrain_history_test_20190312.npy'\n",
        "\n",
        "top_model_id,top_model_weight_id,top_model_history_id='1cZe_3OMAzRGgDhRyXDvgZF7JAZ17V3KP',\"16ld30JlGe-z5wRAxQt3YT4fZu_cjHo3q\",'1AD7tD-rpt9Vt5t-g7lZtcRMS_JNkA3Vm'\n",
        "retrain_model_id,retrain_model_weight_id,retrain_model_history_id='1ASgzfs4DuWqt3Ybdqvf7-3gmipIAxuJk',\"1AFJSCMJ4nFrvT5I4Hh1tKHBd1IdhMXJc\",'1kqkVCEG6x-rfoFclGZKS67ts_ZChAdqG'\n",
        "\n"
      ],
      "execution_count": 4,
      "outputs": [
        {
          "output_type": "stream",
          "text": [
            "/content\n"
          ],
          "name": "stdout"
        }
      ]
    },
    {
      "metadata": {
        "id": "AEujpzt8xICP",
        "colab_type": "code",
        "colab": {}
      },
      "cell_type": "code",
      "source": [
        "def wrap_int64(value):\n",
        "    return tf.train.Feature(int64_list=tf.train.Int64List(value=[value]))\n",
        "def wrap_bytes(value):\n",
        "    return tf.train.Feature(bytes_list=tf.train.BytesList(value=[value]))\n",
        "\n",
        "def convert(image_paths, labels, out_path):\n",
        "    # Args:\n",
        "    # image_paths   List of file-paths for the images.\n",
        "    # labels        Class-labels for the images.\n",
        "    # out_path      File-path for the TFRecords output file.\n",
        "    \n",
        "    print(\"Converting: \" + out_path)\n",
        "    \n",
        "    # Number of images. Used when printing the progress.\n",
        "    num_images = len(image_paths)\n",
        "    \n",
        "    # Open a TFRecordWriter for the output-file.\n",
        "    with tf.python_io.TFRecordWriter(out_path) as writer:\n",
        "        \n",
        "        # Iterate over all the image-paths and class-labels.\n",
        "        for i, (path, label) in enumerate(zip(image_paths, labels)):\n",
        "            # Print the percentage-progress.\n",
        "            print_progress(count=i, total=num_images-1)\n",
        "\n",
        "            # Load the image-file using matplotlib's imread function.\n",
        "            img = imread(path)\n",
        "            \n",
        "            # Convert the image to raw bytes.\n",
        "            img_bytes = img.tostring()\n",
        "\n",
        "            # Create a dict with the data we want to save in the\n",
        "            # TFRecords file. You can add more relevant data here.\n",
        "            data = \\\n",
        "                {\n",
        "                    'image': wrap_bytes(img_bytes),\n",
        "                    'label': wrap_int64(label)\n",
        "                }\n",
        "\n",
        "            # Wrap the data as TensorFlow Features.\n",
        "            feature = tf.train.Features(feature=data)\n",
        "\n",
        "            # Wrap again as a TensorFlow Example.\n",
        "            example = tf.train.Example(features=feature)\n",
        "\n",
        "            # Serialize the data.\n",
        "            serialized = example.SerializeToString()\n",
        "            \n",
        "            # Write the serialized data to the TFRecords file.\n",
        "            writer.write(serialized)\n",
        "            \n",
        "            \n",
        "def parse(serialized):\n",
        "    # Define a dict with the data-names and types we expect to\n",
        "    # find in the TFRecords file.\n",
        "    # It is a bit awkward that this needs to be specified again,\n",
        "    # because it could have been written in the header of the\n",
        "    # TFRecords file instead.\n",
        "    features = \\\n",
        "        {\n",
        "            'image': tf.FixedLenFeature([], tf.string),\n",
        "            'label': tf.FixedLenFeature([], tf.int64)\n",
        "        }\n",
        "\n",
        "    # Parse the serialized data so we get a dict with our data.\n",
        "    parsed_example = tf.parse_single_example(serialized=serialized,\n",
        "                                             features=features)\n",
        "\n",
        "    # Get the image as raw bytes.\n",
        "    image_raw = parsed_example['image']\n",
        "\n",
        "    # Decode the raw bytes so it becomes a tensor with type.\n",
        "    image = tf.decode_raw(image_raw, tf.uint8)\n",
        "    \n",
        "    # The type is now uint8 but we need it to be float.\n",
        "    image = tf.cast(image, tf.float32)\n",
        "\n",
        "    # Get the label associated with the image.\n",
        "    label = parsed_example['label']\n",
        "\n",
        "    # The image and label are now correct TensorFlow types.\n",
        "    return image, label"
      ],
      "execution_count": 0,
      "outputs": []
    },
    {
      "metadata": {
        "id": "hsORVnZxG_BO",
        "colab_type": "code",
        "colab": {}
      },
      "cell_type": "code",
      "source": [
        "#########################################################################################\n",
        "# Custom_vgg_model_1\n",
        "#Training the classifier alone\n",
        "# image_input = Input(shape=(224, 224, 3))\n",
        "\n",
        "# model = VGG16(input_tensor=image_input, include_top=True,weights='imagenet')\n",
        "# model.summary()\n",
        "# last_layer = model.get_layer('fc2').output\n",
        "# #x= Flatten(name='flatten')(last_layer)\n",
        "# out = Dense(num_classes, activation='softmax', name='output')(last_layer)\n",
        "# custom_vgg_model = Model(image_input, out)\n",
        "# custom_vgg_model.summary()\n",
        "\n",
        "# for layer in custom_vgg_model.layers[:-1]:\n",
        "#     layer.trainable = False\n",
        "\n",
        "# custom_vgg_model.compile(loss='categorical_crossentropy',optimizer='rmsprop',metrics=['accuracy'])\n",
        "\n",
        "\n",
        "# t=time.time()\n",
        "# #t = now()\n",
        "# hist2 = custom_vgg_model.fit(X_train, y_train, batch_size=32, epochs=30, verbose=1, validation_data=(X_test, y_test))\n",
        "# print('Training time: %s' % (t - time.time()))\n",
        "# (loss2, accuracy2) = custom_vgg_model.evaluate(X_test, y_test, batch_size=10, verbose=1)\n",
        "\n",
        "# print(\"[INFO] loss={:.4f}, accuracy: {:.4f}%\".format(loss2,accuracy2 * 100))\n",
        "\n",
        "from tensorflow.keras.models import Sequential\n",
        "#import tensorflow.keras.backend as K\n",
        "#from tensorflow.contrib.data import Dataset\n",
        "\n",
        "\n",
        "\n",
        "#download and unzip the training/validation dataset, use it to create a generator\n",
        "def preparegenerator():\n",
        "     \n",
        "    \n",
        "    !unzip ~/gdrive/My Drive/traintrain.tfrecords.zip\n",
        "    \n",
        "    dataset = tf.data.TFRecordDataset(filenames=\"traintrain.tfrecords\")\n",
        "\n",
        "    # Parse the serialized data in the TFRecords files.\n",
        "    # This returns TensorFlow tensors for the image and labels.\n",
        "    dataset = dataset.map(parse)        \n",
        "    \n",
        "\n",
        "\n",
        "\n",
        "\n",
        "\n",
        "\n",
        "\n",
        "    #be aware, run this model once to heat up the generator before you run any other model that needs to use the generator\n",
        "    #...god I have to change this\n",
        "    #this should take aproperiatly 30min to run?\n",
        "    #this does not save to google drive, but only to colab directory\n",
        "def save_bottlebeck_features_train():\n",
        "    #datagen = ImageDataGenerator()\n",
        "    datagen = ImageDataGenerator(\n",
        "    rotation_range=180,\n",
        "    width_shift_range=0,\n",
        "    height_shift_range=0, \n",
        "    shear_range=0, \n",
        "    zoom_range=[0.8,0.8],\n",
        "    brightness_range=[0.75,1.2],\n",
        "    horizontal_flip=True,\n",
        "    fill_mode='nearest')\n",
        "#     image_input = Input(shape=(224, 224, 3))\n",
        "#     model = VGG16(input_tensor=image_input,include_top=False, weights='imagenet')\n",
        "\n",
        "    # build the VGG16 network\n",
        "    model = VGG16(include_top=False, weights='imagenet')\n",
        "\n",
        "    generator = datagen.flow_from_directory(\n",
        "        train_data_dir,\n",
        "        target_size=(img_width, img_height),\n",
        "        batch_size=batch_size,\n",
        "        class_mode=None,\n",
        "        shuffle=False)\n",
        "    bottleneck_features_train = model.predict_generator(\n",
        "        generator, nb_train_samples*5 // batch_size)\n",
        "    np.save(open(bottleneck_train_name, 'wb'),\n",
        "            bottleneck_features_train)\n",
        "def save_bottlebeck_features():\n",
        "    #datagen = ImageDataGenerator()\n",
        "    datagen = ImageDataGenerator(\n",
        "    rotation_range=180,\n",
        "    width_shift_range=0,\n",
        "    height_shift_range=0, \n",
        "    shear_range=0, \n",
        "    zoom_range=[0.8,0.8],\n",
        "    brightness_range=[0.75,1.2],\n",
        "    horizontal_flip=True,\n",
        "    fill_mode='nearest')\n",
        "#     image_input = Input(shape=(224, 224, 3))\n",
        "#     model = VGG16(input_tensor=image_input,include_top=False, weights='imagenet')\n",
        "\n",
        "    # build the VGG16 network\n",
        "    model = VGG16(include_top=False, weights='imagenet')\n",
        "\n",
        "    generator = datagen.flow_from_directory(\n",
        "        train_data_dir,\n",
        "\n",
        "        target_size=(img_width, img_height),\n",
        "        batch_size=batch_size,\n",
        "        class_mode=None,\n",
        "        shuffle=False)\n",
        "    bottleneck_features_train = model.predict_generator(\n",
        "        generator, nb_train_samples // batch_size)\n",
        "    np.save(open(bottleneck_train_name, 'wb'),\n",
        "            bottleneck_features_train)\n",
        "    \n",
        "    generator = datagen.flow_from_directory(\n",
        "        validation_data_dir,\n",
        "        target_size=(img_width, img_height),\n",
        "        batch_size=batch_size,\n",
        "        class_mode=None,\n",
        "        shuffle=False)\n",
        "    bottleneck_features_validation = model.predict_generator(\n",
        "        generator, nb_validation_samples // batch_size)\n",
        "    np.save(open(bottleneck_validation_name, 'wb'),\n",
        "            bottleneck_features_validation)\n",
        "    \n",
        "def save_bottlebeck_features_validation():\n",
        "    datagen = ImageDataGenerator()\n",
        "#     image_input = Input(shape=(224, 224, 3))\n",
        "#     model = VGG16(input_tensor=image_input,include_top=False, weights='imagenet')\n",
        "\n",
        "    # build the VGG16 network\n",
        "    model = VGG16(include_top=False, weights='imagenet')\n",
        "    generator = datagen.flow_from_directory(\n",
        "        validation_data_dir,\n",
        "        target_size=(img_width, img_height),\n",
        "        batch_size=batch_size,\n",
        "        class_mode=None,\n",
        "        shuffle=False)\n",
        "    bottleneck_features_validation = model.predict_generator(\n",
        "        generator, nb_validation_samples // batch_size)\n",
        "    np.save(open(bottleneck_validation_name, 'wb'),\n",
        "            bottleneck_features_validation)\n",
        "     \n",
        "def save_bottlebeck_features_test():\n",
        "    datagen = ImageDataGenerator()\n",
        "    \n",
        "#     image_input = Input(shape=(224, 224, 3))\n",
        "#     model = VGG16(input_tensor=image_input,include_top=False, weights='imagenet')\n",
        "\n",
        "    # build the VGG16 network\n",
        "    model = VGG16(include_top=False, weights='imagenet')\n",
        "\n",
        "    generator = datagen.flow_from_directory(\n",
        "        testing_data_dir,\n",
        "        target_size=(img_width, img_height),\n",
        "        batch_size=batch_size,\n",
        "        class_mode=None,\n",
        "        shuffle=False)\n",
        "    bottleneck_features_test = model.predict_generator(\n",
        "        generator, nb_testing_samples // batch_size)\n",
        "    np.save(open(bottleneck_test_name, 'wb'),\n",
        "            bottleneck_features_test)\n",
        "    \n",
        "    \n",
        "\n",
        "    \n",
        "    \n",
        "\n",
        "\n",
        "def train_top_model(with_regularization,optimizer):\n",
        "    X_train = np.load(open(bottleneck_train_name,'rb'))\n",
        "    X_validation = np.load(open(bottleneck_validation_name,'rb'))\n",
        "    model = Sequential()\n",
        "    model.add(Flatten(input_shape=X_train.shape[1:]))\n",
        "    if(not with_regularization):\n",
        "      model.add(Dense(256, activation='relu'))\n",
        "    else:\n",
        "      model.add(Dense(256, activation='relu',kernel_regularizer=regularizers.l2(0.001)))\n",
        "    model.add(Dropout(0.5))\n",
        "    model.add(Dense(num_classes, activation='softmax', name='output'))\n",
        "\n",
        "    model.compile(loss='categorical_crossentropy',optimizer=optimizer,metrics=['accuracy'])\n",
        "\n",
        "    X_train,y_train = shuffle(X_train,Y_train, random_state=2)\n",
        "    X_validation,y_validation = shuffle(X_validation,Y_validation, random_state=2)\n",
        "    history=model.fit(X_train, y_train,\n",
        "              epochs=epochs,\n",
        "              batch_size=batch_size,\n",
        "              verbose=1,\n",
        "              validation_data=(X_validation, y_validation))\n",
        "    model.save_weights(top_model_weights_path)\n",
        "    model.save(top_model_name) \n",
        "    \n",
        "    return history,model\n",
        "def train_top_model_validate_with_test(with_regularization,optimizer):\n",
        "    X_train = np.load(open(bottleneck_train_name,'rb'))\n",
        "    X_test = np.load(open(bottleneck_test_name,'rb'))\n",
        "    print(X_train.shape)\n",
        "    model = Sequential()\n",
        "    model.add(Flatten(input_shape=X_train.shape[1:]))\n",
        "    if(not with_regularization):\n",
        "      model.add(Dense(256, activation='relu'))\n",
        "    else:\n",
        "      model.add(Dense(256, activation='relu',kernel_regularizer=regularizers.l2(0.001)))\n",
        "    model.add(Dropout(0.5))\n",
        "    model.add(Dense(num_classes, activation='softmax', name='output'))\n",
        "\n",
        "    model.compile(loss='categorical_crossentropy',optimizer=optimizer,metrics=['accuracy'])\n",
        "\n",
        "    X_train,y_train = shuffle(X_train,Y_train, random_state=2)\n",
        "    X_test,y_test = shuffle(X_test,Y_test, random_state=2)\n",
        "    history=model.fit(X_train, y_train,\n",
        "              epochs=epochs,\n",
        "              batch_size=batch_size,\n",
        "              verbose=1,\n",
        "              validation_data=(X_test, y_test))\n",
        "    model.save_weights(top_model_weights_path_test)\n",
        "    model.save(top_model_name_test) \n",
        "    \n",
        "    return history,model\n",
        "\n",
        "############################################################################################\n",
        "# visualizing losses and accuracy\n",
        "def plot_history(history,epochs,history_name):\n",
        "    train_loss2=history.history['loss']\n",
        "    val_loss2=history.history['val_loss']\n",
        "    train_acc2=history.history['acc']\n",
        "    val_acc2=history.history['val_acc']\n",
        "    xc=range(epochs)\n",
        "    with open(history_name, 'wb') as file_pi:\n",
        "        pickle.dump(history.history, file_pi)\n",
        "    \n",
        "    plt.figure(1,figsize=(7,5))\n",
        "    plt.plot(xc,train_loss2)\n",
        "    plt.plot(xc,val_loss2)\n",
        "    plt.xlabel('num of Epochs')\n",
        "    plt.ylabel('loss')\n",
        "    plt.title('train_loss vs val_loss')\n",
        "    plt.grid(True)\n",
        "    plt.legend(['train','val'])\n",
        "    #print plt.style.available # use bmh, classic,ggplot for big pictures\n",
        "    plt.style.use(['classic'])\n",
        "\n",
        "    plt.figure(2,figsize=(7,5))\n",
        "    plt.plot(xc,train_acc2)\n",
        "    plt.plot(xc,val_acc2)\n",
        "    plt.xlabel('num of Epochs')\n",
        "    plt.ylabel('accuracy')\n",
        "    plt.title('train_acc vs val_acc')\n",
        "    plt.grid(True)\n",
        "    plt.legend(['train','val'],loc=4)\n",
        "    #print plt.style.available # use bmh, classic,ggplot for big pictures\n",
        "    plt.style.use(['classic'])\n",
        "def plot_history_history(history,epochs,history_name):\n",
        "    train_loss2=history['loss']\n",
        "    val_loss2=history['val_loss']\n",
        "    train_acc2=history['acc']\n",
        "    val_acc2=history['val_acc']\n",
        "    xc=range(epochs)\n",
        "    with open(history_name, 'wb') as file_pi:\n",
        "        pickle.dump(history, file_pi)\n",
        "    plt.figure(1,figsize=(7,5))\n",
        "    plt.plot(xc,train_loss2)\n",
        "    plt.plot(xc,val_loss2)\n",
        "    plt.xlabel('num of Epochs')\n",
        "    plt.ylabel('loss')\n",
        "    plt.title('train_loss vs val_loss')\n",
        "    plt.grid(True)\n",
        "    plt.legend(['train','val'])\n",
        "    #print plt.style.available # use bmh, classic,ggplot for big pictures\n",
        "    plt.style.use(['classic'])\n",
        "\n",
        "    plt.figure(2,figsize=(7,5))\n",
        "    plt.plot(xc,train_acc2)\n",
        "    plt.plot(xc,val_acc2)\n",
        "    plt.xlabel('num of Epochs')\n",
        "    plt.ylabel('accuracy')\n",
        "    plt.title('train_acc vs val_acc')\n",
        "    plt.grid(True)\n",
        "    plt.legend(['train','val'],loc=4)\n",
        "    #print plt.style.available # use bmh, classic,ggplot for big pictures\n",
        "    plt.style.use(['classic'])\n",
        "    # this does not save the bottle neck assume already load drive\n",
        "    # the parameters are the name of the files to save\n",
        "def save_model_weights_history_to_drive(model_file_name,top_model_weights_path,train_history):\n",
        "    model_file = drive2.CreateFile({'title' : model_file_name})\n",
        "    model_file.SetContentFile(model_file_name)\n",
        "    model_file.Upload()\n",
        "    # download to google drive\n",
        "    drive2.CreateFile({'id': model_file.get('id')})\n",
        "\n",
        "    weight_file = drive2.CreateFile({'title' : top_model_weights_path})\n",
        "    weight_file.SetContentFile(top_model_weights_path)\n",
        "    weight_file.Upload()\n",
        "\n",
        "    # download to google drive\n",
        "    drive2.CreateFile({'id': weight_file.get('id')})\n",
        "\n",
        "    history_file = drive2.CreateFile({'title' : train_history})\n",
        "    history_file.SetContentFile(train_history)\n",
        "    history_file.Upload()\n",
        "\n",
        "    # download to google drive\n",
        "    drive2.CreateFile({'id': history_file.get('id')})\n",
        "    \n",
        "    \n",
        "    #load model and history from google drive by id , could improve by using name\n",
        "def load_model_weights_history(model_file_id,top_model_weights_id,train_history_id):\n",
        "\n",
        "    if(model_file_id!=None):\n",
        "        model_file = drive2.CreateFile({'id' : model_file_id})\n",
        "        print (model_file['title'])  # UMNIST.zip\n",
        "\n",
        "        model_file.GetContentFile(model_file['title'])  # Save Drive file as a local file\n",
        "    \n",
        "    if(top_model_weights_id!=None):\n",
        "\n",
        "        weight_file = drive2.CreateFile({'id' : top_model_weights_id})\n",
        "        print( weight_file['title'])  # UMNIST.zip\n",
        "\n",
        "        weight_file.GetContentFile(weight_file['title'])  # Save Drive file as a local file\n",
        "        \n",
        "    if(train_history_id!=None):\n",
        "        history_file = drive2.CreateFile({'id' : train_history_id})\n",
        "        print (history_file['title'])  # UMNIST.zip\n",
        "\n",
        "        history_file.GetContentFile(history_file['title'])  # Save Drive file as a local file\n",
        "\n",
        "    #return model_file,weight_file,history_file\n",
        "def load_item_to_colab(itemid):     \n",
        "    if(itemid!=None):\n",
        "        item_file = drive2.CreateFile({'id' : itemid})\n",
        "        print (model_file['title'])  # UMNIST.zip\n",
        "\n",
        "        item_file.GetContentFile(item_file['title'])  # Save Drive file as a local file\n",
        "        \n",
        "def save_item_to_googledrive(item_name):\n",
        "    item_file = drive2.CreateFile({'title' : item_name})\n",
        "    item_file.SetContentFile(item_name)\n",
        "    item_file.Upload()\n",
        "    # download to google drive\n",
        "    drive2.CreateFile({'id': item_file.get('id')})\n",
        "    \n",
        "    \n",
        "    \n",
        "    #assuming same top layer structure as in train_top_model. this is stupid as I cant change the hidden layer design,\n",
        "    #but still leave a reasonable amount of hyperparameter to change considering the amount of computational resource I have\n",
        "    \n",
        "def retrain_layers(top_model_weights_path,with_regularization):\n",
        "\n",
        "#     # build the VGG16 network\n",
        "#     model = applications.VGG16(weights='imagenet', include_top=False, input_shape=(128, 128, 3))\n",
        "#     print('Model loaded.')\n",
        "\n",
        "#     # build a classifier model to put on top of the convolutional model\n",
        "#     top_model = Sequential()\n",
        "#     top_model.add(Flatten(input_shape=model.output_shape[1:]))\n",
        "#     top_model.add(Dense(256, activation='relu'))\n",
        "\n",
        "# #     top_model.add(Dense(256, input_shape=model.output_shape[1:],activation='relu'))\n",
        "#     top_model.add(Dropout(0.5))\n",
        "#     top_model.add(Dense(num_classes, activation='softmax'))\n",
        "        \n",
        "# #     model.add(Flatten(input_shape=X_train.shape[1:]))\n",
        "# #     model.add(Dropout(0.5))\n",
        "# #     model.add(Dense(num_classes, activation='softmax', name='output'))\n",
        "#     # note that it is necessary to start with a fully-trained\n",
        "#     # classifier, including the top classifier,\n",
        "#     # in order to successfully do fine-tuning\n",
        "    input_tensor = Input(shape=(150,150,3))\n",
        "    base_model = VGG16(weights='imagenet',include_top= False,input_tensor=input_tensor)\n",
        "    top_model = Sequential()\n",
        "    top_model.add(Flatten(input_shape=base_model.output_shape[1:]))\n",
        "    if(not with_regularization):\n",
        "      top_model.add(Dense(256, activation='relu'))\n",
        "    else:\n",
        "      top_model.add(Dense(256, activation='relu',kernel_regularizer=regularizers.l2(0.001)))\n",
        "    top_model.add(Dropout(0.5))\n",
        "    top_model.add(Dense(num_classes, activation='softmax'))\n",
        "    top_model.load_weights(top_model_weights_path)\n",
        "    model = Model(inputs= base_model.input, outputs= top_model(base_model.output))\n",
        "#     Model()\n",
        "#     # add the model on top of the convolutional base\n",
        "#    model.add(top_model)\n",
        "    print(model.summary())\n",
        "    # set the first 15 layers (up to the last conv block)\n",
        "    # to non-trainable (weights will not be updated)\n",
        "    # check the model to make sure which block to retrain here.\n",
        "    for layer in model.layers[:15]:\n",
        "        layer.trainable = False\n",
        "    return model\n",
        "    \n",
        "    #load the data from the google drive. slow, use only a small portion of gpu power I have. might improve using tf records\n",
        "def compile_train_transferlearning(model):\n",
        "      # compile the model with a SGD/momentum optimizer\n",
        "    # and a very slow learning rate.\n",
        "    model.compile(loss='categorical_crossentropy',\n",
        "                  optimizer=optimizers.SGD(lr=1e-4, momentum=0.9),\n",
        "                  metrics=['accuracy'])\n",
        "\n",
        "    datagen = ImageDataGenerator()\n",
        "    train_generator = datagen.flow_from_directory(\n",
        "        train_data_dir,\n",
        "        target_size=(img_height, img_width),\n",
        "        batch_size=batch_size,\n",
        "        class_mode=\"categorical\",\n",
        "        shuffle=False)\n",
        "\n",
        "    validation_generator = datagen.flow_from_directory(\n",
        "        validation_data_dir,\n",
        "        target_size=(img_height, img_width),\n",
        "        batch_size=batch_size,\n",
        "        class_mode='categorical',\n",
        "        shuffle=False)\n",
        "    # fine-tune the model\n",
        "    history=model.fit_generator(\n",
        "        train_generator,\n",
        "        steps_per_epoch=nb_train_samples // batch_size,\n",
        "        epochs=epochs,\n",
        "        verbose=1,\n",
        "        validation_data=validation_generator,\n",
        "        validation_steps=nb_validation_samples// batch_size)\n",
        "    \n",
        "    return model,history\n",
        "def compile_train_transferlearning_against_test(model):\n",
        "      # compile the model with a SGD/momentum optimizer\n",
        "    # and a very slow learning rate.\n",
        "    model.compile(loss='categorical_crossentropy',\n",
        "                  optimizer=optimizers.SGD(lr=1e-4, momentum=0.9),\n",
        "                  metrics=['accuracy'])\n",
        "\n",
        "    datagen = ImageDataGenerator()\n",
        "    train_generator = datagen.flow_from_directory(\n",
        "        train_data_dir,\n",
        "        target_size=(img_height, img_width),\n",
        "        batch_size=batch_size,\n",
        "        class_mode=\"categorical\",\n",
        "        shuffle=False)\n",
        "\n",
        "    test_generator = datagen.flow_from_directory(\n",
        "        testing_data_dir,\n",
        "        target_size=(img_height, img_width),\n",
        "        batch_size=batch_size,\n",
        "        class_mode='categorical',\n",
        "        shuffle=False)\n",
        "    # fine-tune the model\n",
        "    history=model.fit_generator(\n",
        "        train_generator,\n",
        "        steps_per_epoch=nb_train_samples // batch_size,\n",
        "        epochs=epochs,\n",
        "        verbose=1,\n",
        "        validation_data=test_generator,\n",
        "        validation_steps=nb_testing_samples// batch_size)\n",
        "    \n",
        "    return model,history\n",
        "    #again assuming same top layer structures as in train top model\n",
        "    #using hyperparameter search by hyperas, not able to change hidden layer is all\n",
        "def hyperparameter_search(top_model_weights_path):\n",
        "    input_tensor = Input(shape=(img_width, img_height,3))\n",
        "    base_model = VGG16(weights='imagenet',include_top= False,input_tensor=input_tensor)\n",
        "    top_model = Sequential()\n",
        "    top_model.add(Flatten(input_shape=base_model.output_shape[1:]))\n",
        "    top_model.add(Dense(256, activation='relu'))\n",
        "    top_model.add(Dropout(0.5))\n",
        "    top_model.add(Dense(num_classes, activation='softmax'))\n",
        "    top_model.load_weights(top_model_weights_path)\n",
        "    model = Model(inputs= base_model.input, outputs= top_model(base_model.output))\n",
        "    for layer in model.layers[:15]:\n",
        "        layer.trainable = False\n",
        "    \n",
        "    model.compile(loss='categorical_crossentropy',\n",
        "                  optimizer=optimizers.SGD(lr=1e-4, momentum=0.9),\n",
        "                  metrics=['accuracy'])\n",
        "\n",
        "    datagen = ImageDataGenerator()\n",
        "    train_generator = datagen.flow_from_directory(\n",
        "        train_data_dir,\n",
        "        target_size=(img_height, img_width),\n",
        "        batch_size=batch_size,\n",
        "        class_mode=\"categorical\",\n",
        "        shuffle=False)\n",
        "\n",
        "    validation_generator = datagen.flow_from_directory(\n",
        "        validation_data_dir,\n",
        "        target_size=(img_height, img_width),\n",
        "        batch_size=batch_size,\n",
        "        class_mode='categorical',\n",
        "        shuffle=False)\n",
        "    # fine-tune the model\n",
        "    history=model.fit_generator(\n",
        "        train_generator,\n",
        "        steps_per_epoch=nb_train_samples // batch_size,\n",
        "        epochs=epochs,\n",
        "        verbose=1,\n",
        "        validation_data=validation_generator,\n",
        "        validation_steps=nb_validation_samples// batch_size)\n",
        "    \n",
        "    return model,history\n"
      ],
      "execution_count": 0,
      "outputs": []
    },
    {
      "metadata": {
        "id": "sxCuB7BSugaf",
        "colab_type": "code",
        "outputId": "ff6229b3-880d-4958-88c9-dcf9b2197d53",
        "colab": {
          "base_uri": "https://localhost:8080/",
          "height": 52
        }
      },
      "cell_type": "code",
      "source": [
        "#!unzip gdrive/My\\ Drive/traintrain.tfrecords.zip\n",
        "# file = open(\"Fruits.obj\",'r')\n",
        "# object_file = pickle.load(file)"
      ],
      "execution_count": 0,
      "outputs": [
        {
          "output_type": "stream",
          "text": [
            "Archive:  gdrive/My Drive/traintrain.tfrecords.zip\n",
            "  inflating: traintrain.tfrecords    \n"
          ],
          "name": "stdout"
        }
      ]
    },
    {
      "metadata": {
        "id": "24-u3hts6zyo",
        "colab_type": "code",
        "outputId": "8b1a9d25-71fc-42d9-872f-7591b18abc87",
        "colab": {
          "base_uri": "https://localhost:8080/",
          "height": 141
        }
      },
      "cell_type": "code",
      "source": [
        "save_bottlebeck_features_train()"
      ],
      "execution_count": 6,
      "outputs": [
        {
          "output_type": "stream",
          "text": [
            "WARNING:tensorflow:From /usr/local/lib/python3.6/dist-packages/tensorflow/python/ops/resource_variable_ops.py:435: colocate_with (from tensorflow.python.framework.ops) is deprecated and will be removed in a future version.\n",
            "Instructions for updating:\n",
            "Colocations handled automatically by placer.\n",
            "Downloading data from https://github.com/fchollet/deep-learning-models/releases/download/v0.1/vgg16_weights_tf_dim_ordering_tf_kernels_notop.h5\n",
            "58892288/58889256 [==============================] - 1s 0us/step\n",
            "Found 1237 images belonging to 3 classes.\n"
          ],
          "name": "stdout"
        }
      ]
    },
    {
      "metadata": {
        "id": "oq_FnJFLyoso",
        "colab_type": "code",
        "outputId": "807a3b9f-a46b-466c-e71a-d8e727f928a7",
        "colab": {
          "base_uri": "https://localhost:8080/",
          "height": 34
        }
      },
      "cell_type": "code",
      "source": [
        "save_bottlebeck_features_test()"
      ],
      "execution_count": 7,
      "outputs": [
        {
          "output_type": "stream",
          "text": [
            "Found 157 images belonging to 3 classes.\n"
          ],
          "name": "stdout"
        }
      ]
    },
    {
      "metadata": {
        "id": "6gLz0y3s5bKd",
        "colab_type": "code",
        "outputId": "cbe477d1-b935-410f-d5d4-a372f4905339",
        "colab": {
          "base_uri": "https://localhost:8080/",
          "height": 3508
        }
      },
      "cell_type": "code",
      "source": [
        "epochs=100\n",
        "history,model=train_top_model(False,\"rmsprop\")\n"
      ],
      "execution_count": 0,
      "outputs": [
        {
          "output_type": "stream",
          "text": [
            "Train on 14798 samples, validate on 2905 samples\n",
            "Epoch 1/100\n",
            "14798/14798 [==============================] - 4s 268us/sample - loss: 8.5468 - acc: 0.4620 - val_loss: 8.5046 - val_acc: 0.4606\n",
            "Epoch 2/100\n",
            "14798/14798 [==============================] - 4s 243us/sample - loss: 7.5035 - acc: 0.5251 - val_loss: 8.2418 - val_acc: 0.4840\n",
            "Epoch 3/100\n",
            "14798/14798 [==============================] - 4s 238us/sample - loss: 7.0304 - acc: 0.5559 - val_loss: 7.4616 - val_acc: 0.5322\n",
            "Epoch 4/100\n",
            "14798/14798 [==============================] - 4s 240us/sample - loss: 6.5681 - acc: 0.5868 - val_loss: 7.8372 - val_acc: 0.5112\n",
            "Epoch 5/100\n",
            "14798/14798 [==============================] - 4s 240us/sample - loss: 6.4896 - acc: 0.5920 - val_loss: 6.9614 - val_acc: 0.5625\n",
            "Epoch 6/100\n",
            "14798/14798 [==============================] - 4s 248us/sample - loss: 6.3348 - acc: 0.6014 - val_loss: 7.0193 - val_acc: 0.5580\n",
            "Epoch 7/100\n",
            "14798/14798 [==============================] - 4s 239us/sample - loss: 6.1900 - acc: 0.6099 - val_loss: 6.9180 - val_acc: 0.5663\n",
            "Epoch 8/100\n",
            "14798/14798 [==============================] - 4s 240us/sample - loss: 6.1921 - acc: 0.6115 - val_loss: 7.2863 - val_acc: 0.5429\n",
            "Epoch 9/100\n",
            "14798/14798 [==============================] - 4s 237us/sample - loss: 6.1412 - acc: 0.6151 - val_loss: 6.5472 - val_acc: 0.5907\n",
            "Epoch 10/100\n",
            "14798/14798 [==============================] - 4s 242us/sample - loss: 6.0381 - acc: 0.6222 - val_loss: 6.5067 - val_acc: 0.5914\n",
            "Epoch 11/100\n",
            "14798/14798 [==============================] - 4s 238us/sample - loss: 6.0172 - acc: 0.6231 - val_loss: 6.5191 - val_acc: 0.5924\n",
            "Epoch 12/100\n",
            "14798/14798 [==============================] - 4s 241us/sample - loss: 5.9757 - acc: 0.6262 - val_loss: 6.7575 - val_acc: 0.5773\n",
            "Epoch 13/100\n",
            "14798/14798 [==============================] - 4s 240us/sample - loss: 5.9070 - acc: 0.6304 - val_loss: 6.7899 - val_acc: 0.5762\n",
            "Epoch 14/100\n",
            "14798/14798 [==============================] - 4s 238us/sample - loss: 5.8828 - acc: 0.6324 - val_loss: 6.7815 - val_acc: 0.5766\n",
            "Epoch 15/100\n",
            "14798/14798 [==============================] - 4s 240us/sample - loss: 5.8074 - acc: 0.6368 - val_loss: 6.3715 - val_acc: 0.6010\n",
            "Epoch 16/100\n",
            "14798/14798 [==============================] - 4s 237us/sample - loss: 5.8444 - acc: 0.6345 - val_loss: 6.7168 - val_acc: 0.5814\n",
            "Epoch 17/100\n",
            "14798/14798 [==============================] - 4s 240us/sample - loss: 5.7641 - acc: 0.6395 - val_loss: 6.6698 - val_acc: 0.5842\n",
            "Epoch 18/100\n",
            "14798/14798 [==============================] - 4s 239us/sample - loss: 5.6827 - acc: 0.6448 - val_loss: 6.3965 - val_acc: 0.6017\n",
            "Epoch 19/100\n",
            "14798/14798 [==============================] - 4s 245us/sample - loss: 5.6418 - acc: 0.6470 - val_loss: 6.2866 - val_acc: 0.6065\n",
            "Epoch 20/100\n",
            "14798/14798 [==============================] - 4s 238us/sample - loss: 5.5684 - acc: 0.6514 - val_loss: 6.2750 - val_acc: 0.6076\n",
            "Epoch 21/100\n",
            "14798/14798 [==============================] - 4s 239us/sample - loss: 5.6685 - acc: 0.6454 - val_loss: 6.4170 - val_acc: 0.5986\n",
            "Epoch 22/100\n",
            "14798/14798 [==============================] - 4s 243us/sample - loss: 5.5817 - acc: 0.6511 - val_loss: 6.3176 - val_acc: 0.6065\n",
            "Epoch 23/100\n",
            "14798/14798 [==============================] - 4s 251us/sample - loss: 5.5415 - acc: 0.6540 - val_loss: 6.0540 - val_acc: 0.6217\n",
            "Epoch 24/100\n",
            "14798/14798 [==============================] - 4s 243us/sample - loss: 5.5100 - acc: 0.6561 - val_loss: 5.7394 - val_acc: 0.6406\n",
            "Epoch 25/100\n",
            "14798/14798 [==============================] - 4s 240us/sample - loss: 5.4952 - acc: 0.6560 - val_loss: 6.5401 - val_acc: 0.5917\n",
            "Epoch 26/100\n",
            "14798/14798 [==============================] - 4s 237us/sample - loss: 5.5750 - acc: 0.6513 - val_loss: 6.0989 - val_acc: 0.6176\n",
            "Epoch 27/100\n",
            "14798/14798 [==============================] - 4s 243us/sample - loss: 5.5312 - acc: 0.6545 - val_loss: 6.2100 - val_acc: 0.6120\n",
            "Epoch 28/100\n",
            "14798/14798 [==============================] - 4s 241us/sample - loss: 5.4401 - acc: 0.6596 - val_loss: 5.9321 - val_acc: 0.6289\n",
            "Epoch 29/100\n",
            "14798/14798 [==============================] - 3s 236us/sample - loss: 5.4402 - acc: 0.6596 - val_loss: 6.3867 - val_acc: 0.6021\n",
            "Epoch 30/100\n",
            "14798/14798 [==============================] - 4s 239us/sample - loss: 5.4778 - acc: 0.6579 - val_loss: 6.2252 - val_acc: 0.6110\n",
            "Epoch 31/100\n",
            "14798/14798 [==============================] - 3s 234us/sample - loss: 5.4706 - acc: 0.6581 - val_loss: 6.0580 - val_acc: 0.6210\n",
            "Epoch 32/100\n",
            "14798/14798 [==============================] - 4s 238us/sample - loss: 5.4720 - acc: 0.6583 - val_loss: 6.1626 - val_acc: 0.6155\n",
            "Epoch 33/100\n",
            "14798/14798 [==============================] - 3s 236us/sample - loss: 5.4632 - acc: 0.6587 - val_loss: 6.4293 - val_acc: 0.5986\n",
            "Epoch 34/100\n",
            "14798/14798 [==============================] - 4s 240us/sample - loss: 5.3952 - acc: 0.6629 - val_loss: 5.9131 - val_acc: 0.6320\n",
            "Epoch 35/100\n",
            "14798/14798 [==============================] - 4s 237us/sample - loss: 5.3305 - acc: 0.6674 - val_loss: 5.8449 - val_acc: 0.6344\n",
            "Epoch 36/100\n",
            "14798/14798 [==============================] - 4s 238us/sample - loss: 5.2817 - acc: 0.6702 - val_loss: 6.1379 - val_acc: 0.6165\n",
            "Epoch 37/100\n",
            "14798/14798 [==============================] - 3s 235us/sample - loss: 5.2682 - acc: 0.6715 - val_loss: 5.7537 - val_acc: 0.6417\n",
            "Epoch 38/100\n",
            "14798/14798 [==============================] - 4s 241us/sample - loss: 5.2363 - acc: 0.6730 - val_loss: 5.5526 - val_acc: 0.6523\n",
            "Epoch 39/100\n",
            "14798/14798 [==============================] - 4s 241us/sample - loss: 5.2386 - acc: 0.6727 - val_loss: 5.7978 - val_acc: 0.6365\n",
            "Epoch 40/100\n",
            "14798/14798 [==============================] - 4s 240us/sample - loss: 5.4547 - acc: 0.6587 - val_loss: 5.7083 - val_acc: 0.6434\n",
            "Epoch 41/100\n",
            "14798/14798 [==============================] - 4s 240us/sample - loss: 5.2718 - acc: 0.6711 - val_loss: 6.2448 - val_acc: 0.6114\n",
            "Epoch 42/100\n",
            "14798/14798 [==============================] - 4s 239us/sample - loss: 5.2320 - acc: 0.6732 - val_loss: 5.7719 - val_acc: 0.6396\n",
            "Epoch 43/100\n",
            "14798/14798 [==============================] - 4s 237us/sample - loss: 5.1995 - acc: 0.6750 - val_loss: 5.4354 - val_acc: 0.6616\n",
            "Epoch 44/100\n",
            "14798/14798 [==============================] - 4s 245us/sample - loss: 5.2360 - acc: 0.6730 - val_loss: 5.8649 - val_acc: 0.6327\n",
            "Epoch 45/100\n",
            "14798/14798 [==============================] - 4s 238us/sample - loss: 5.1351 - acc: 0.6790 - val_loss: 5.6405 - val_acc: 0.6475\n",
            "Epoch 46/100\n",
            "14798/14798 [==============================] - 4s 239us/sample - loss: 5.1566 - acc: 0.6783 - val_loss: 5.5298 - val_acc: 0.6547\n",
            "Epoch 47/100\n",
            "14798/14798 [==============================] - 4s 241us/sample - loss: 5.2033 - acc: 0.6752 - val_loss: 5.7555 - val_acc: 0.6417\n",
            "Epoch 48/100\n",
            "14798/14798 [==============================] - 4s 245us/sample - loss: 5.2227 - acc: 0.6730 - val_loss: 5.6903 - val_acc: 0.6448\n",
            "Epoch 49/100\n",
            "14798/14798 [==============================] - 4s 241us/sample - loss: 5.0787 - acc: 0.6835 - val_loss: 6.0239 - val_acc: 0.6238\n",
            "Epoch 50/100\n",
            "14798/14798 [==============================] - 4s 237us/sample - loss: 5.1690 - acc: 0.6771 - val_loss: 5.4580 - val_acc: 0.6585\n",
            "Epoch 51/100\n",
            "14798/14798 [==============================] - 3s 236us/sample - loss: 5.1551 - acc: 0.6783 - val_loss: 5.9406 - val_acc: 0.6289\n",
            "Epoch 52/100\n",
            "14798/14798 [==============================] - 4s 242us/sample - loss: 4.9846 - acc: 0.6885 - val_loss: 5.7204 - val_acc: 0.6420\n",
            "Epoch 53/100\n",
            "14798/14798 [==============================] - 4s 237us/sample - loss: 5.1062 - acc: 0.6813 - val_loss: 5.5388 - val_acc: 0.6544\n",
            "Epoch 54/100\n",
            "14798/14798 [==============================] - 4s 240us/sample - loss: 5.0817 - acc: 0.6826 - val_loss: 5.6791 - val_acc: 0.6451\n",
            "Epoch 55/100\n",
            "14798/14798 [==============================] - 4s 239us/sample - loss: 5.1009 - acc: 0.6816 - val_loss: 5.2016 - val_acc: 0.6757\n",
            "Epoch 56/100\n",
            "14798/14798 [==============================] - 4s 238us/sample - loss: 5.1413 - acc: 0.6791 - val_loss: 5.7783 - val_acc: 0.6396\n",
            "Epoch 57/100\n",
            "14798/14798 [==============================] - 3s 234us/sample - loss: 5.0411 - acc: 0.6854 - val_loss: 5.6046 - val_acc: 0.6506\n",
            "Epoch 58/100\n",
            "14798/14798 [==============================] - 3s 236us/sample - loss: 5.1350 - acc: 0.6793 - val_loss: 5.1782 - val_acc: 0.6761\n",
            "Epoch 59/100\n",
            "14798/14798 [==============================] - 4s 242us/sample - loss: 5.1204 - acc: 0.6804 - val_loss: 5.8083 - val_acc: 0.6372\n",
            "Epoch 60/100\n",
            "14798/14798 [==============================] - 4s 242us/sample - loss: 5.1137 - acc: 0.6808 - val_loss: 5.9361 - val_acc: 0.6306\n",
            "Epoch 61/100\n",
            "14798/14798 [==============================] - 3s 236us/sample - loss: 5.2741 - acc: 0.6716 - val_loss: 5.8703 - val_acc: 0.6344\n",
            "Epoch 62/100\n",
            "14798/14798 [==============================] - 4s 242us/sample - loss: 4.9573 - acc: 0.6908 - val_loss: 6.0294 - val_acc: 0.6234\n",
            "Epoch 63/100\n",
            "14798/14798 [==============================] - 4s 254us/sample - loss: 5.0738 - acc: 0.6837 - val_loss: 5.5830 - val_acc: 0.6527\n",
            "Epoch 64/100\n",
            "14798/14798 [==============================] - 4s 238us/sample - loss: 5.0337 - acc: 0.6857 - val_loss: 5.5998 - val_acc: 0.6492\n",
            "Epoch 65/100\n",
            "14798/14798 [==============================] - 4s 245us/sample - loss: 5.0780 - acc: 0.6833 - val_loss: 5.5992 - val_acc: 0.6492\n",
            "Epoch 66/100\n",
            "14798/14798 [==============================] - 4s 237us/sample - loss: 4.9094 - acc: 0.6943 - val_loss: 5.3916 - val_acc: 0.6620\n",
            "Epoch 67/100\n",
            "14798/14798 [==============================] - 4s 244us/sample - loss: 4.8998 - acc: 0.6944 - val_loss: 5.8882 - val_acc: 0.6334\n",
            "Epoch 68/100\n",
            "14798/14798 [==============================] - 4s 240us/sample - loss: 4.8861 - acc: 0.6955 - val_loss: 5.3184 - val_acc: 0.6675\n",
            "Epoch 69/100\n",
            "14798/14798 [==============================] - 4s 237us/sample - loss: 4.9956 - acc: 0.6887 - val_loss: 5.7784 - val_acc: 0.6389\n",
            "Epoch 70/100\n",
            "14798/14798 [==============================] - 4s 238us/sample - loss: 4.9295 - acc: 0.6925 - val_loss: 5.5708 - val_acc: 0.6520\n",
            "Epoch 71/100\n",
            "14798/14798 [==============================] - 3s 236us/sample - loss: 4.8643 - acc: 0.6967 - val_loss: 5.5960 - val_acc: 0.6506\n",
            "Epoch 72/100\n",
            "14798/14798 [==============================] - 4s 248us/sample - loss: 4.9161 - acc: 0.6930 - val_loss: 5.2190 - val_acc: 0.6733\n",
            "Epoch 73/100\n",
            "14798/14798 [==============================] - 4s 252us/sample - loss: 4.9015 - acc: 0.6943 - val_loss: 5.1935 - val_acc: 0.6744\n",
            "Epoch 74/100\n",
            "14798/14798 [==============================] - 4s 238us/sample - loss: 4.8578 - acc: 0.6970 - val_loss: 5.3196 - val_acc: 0.6682\n",
            "Epoch 75/100\n",
            "14798/14798 [==============================] - 4s 237us/sample - loss: 4.7996 - acc: 0.7001 - val_loss: 5.5340 - val_acc: 0.6544\n",
            "Epoch 76/100\n",
            "14798/14798 [==============================] - 3s 236us/sample - loss: 4.9147 - acc: 0.6933 - val_loss: 5.5958 - val_acc: 0.6499\n",
            "Epoch 77/100\n",
            "14798/14798 [==============================] - 3s 235us/sample - loss: 4.7472 - acc: 0.7038 - val_loss: 5.2114 - val_acc: 0.6747\n",
            "Epoch 78/100\n",
            "14798/14798 [==============================] - 3s 236us/sample - loss: 4.7990 - acc: 0.7006 - val_loss: 5.3742 - val_acc: 0.6644\n",
            "Epoch 79/100\n",
            "14798/14798 [==============================] - 4s 237us/sample - loss: 4.7585 - acc: 0.7029 - val_loss: 5.4776 - val_acc: 0.6571\n",
            "Epoch 80/100\n",
            "14798/14798 [==============================] - 4s 238us/sample - loss: 4.7575 - acc: 0.7027 - val_loss: 5.2346 - val_acc: 0.6733\n",
            "Epoch 81/100\n",
            "14798/14798 [==============================] - 4s 239us/sample - loss: 4.7576 - acc: 0.7033 - val_loss: 5.5110 - val_acc: 0.6568\n",
            "Epoch 82/100\n",
            "14798/14798 [==============================] - 4s 246us/sample - loss: 4.7864 - acc: 0.7016 - val_loss: 5.4560 - val_acc: 0.6596\n",
            "Epoch 83/100\n",
            "14798/14798 [==============================] - 4s 247us/sample - loss: 4.7396 - acc: 0.7044 - val_loss: 5.3281 - val_acc: 0.6664\n",
            "Epoch 84/100\n",
            "14798/14798 [==============================] - 4s 254us/sample - loss: 4.7688 - acc: 0.7025 - val_loss: 5.5815 - val_acc: 0.6523\n",
            "Epoch 85/100\n",
            "14798/14798 [==============================] - 4s 254us/sample - loss: 4.8208 - acc: 0.6992 - val_loss: 5.0849 - val_acc: 0.6816\n",
            "Epoch 86/100\n",
            "14798/14798 [==============================] - 4s 248us/sample - loss: 4.6709 - acc: 0.7091 - val_loss: 5.5181 - val_acc: 0.6554\n",
            "Epoch 87/100\n",
            "14798/14798 [==============================] - 4s 240us/sample - loss: 4.8122 - acc: 0.7001 - val_loss: 5.5070 - val_acc: 0.6558\n",
            "Epoch 88/100\n",
            "14798/14798 [==============================] - 4s 243us/sample - loss: 4.7692 - acc: 0.7023 - val_loss: 5.6148 - val_acc: 0.6492\n",
            "Epoch 89/100\n",
            "14798/14798 [==============================] - 4s 240us/sample - loss: 4.7177 - acc: 0.7054 - val_loss: 5.0739 - val_acc: 0.6812\n",
            "Epoch 90/100\n",
            "14798/14798 [==============================] - 4s 238us/sample - loss: 4.7090 - acc: 0.7057 - val_loss: 4.9857 - val_acc: 0.6874\n",
            "Epoch 91/100\n",
            "14798/14798 [==============================] - 3s 235us/sample - loss: 4.6915 - acc: 0.7065 - val_loss: 5.0339 - val_acc: 0.6861\n",
            "Epoch 92/100\n",
            "14798/14798 [==============================] - 3s 235us/sample - loss: 4.7970 - acc: 0.7008 - val_loss: 4.8202 - val_acc: 0.6991\n",
            "Epoch 93/100\n",
            "14798/14798 [==============================] - 3s 235us/sample - loss: 4.6328 - acc: 0.7107 - val_loss: 5.7830 - val_acc: 0.6399\n",
            "Epoch 94/100\n",
            "14798/14798 [==============================] - 4s 238us/sample - loss: 4.7712 - acc: 0.7024 - val_loss: 5.2368 - val_acc: 0.6723\n",
            "Epoch 95/100\n",
            "14798/14798 [==============================] - 4s 238us/sample - loss: 4.5764 - acc: 0.7144 - val_loss: 4.5945 - val_acc: 0.7108\n",
            "Epoch 96/100\n",
            "14798/14798 [==============================] - 4s 238us/sample - loss: 4.6767 - acc: 0.7081 - val_loss: 5.2105 - val_acc: 0.6740\n",
            "Epoch 97/100\n",
            "14798/14798 [==============================] - 4s 239us/sample - loss: 4.5924 - acc: 0.7134 - val_loss: 4.7646 - val_acc: 0.7022\n",
            "Epoch 98/100\n",
            "14798/14798 [==============================] - 3s 236us/sample - loss: 4.6633 - acc: 0.7083 - val_loss: 5.3157 - val_acc: 0.6682\n",
            "Epoch 99/100\n",
            "14798/14798 [==============================] - 3s 236us/sample - loss: 4.6572 - acc: 0.7094 - val_loss: 4.9713 - val_acc: 0.6885\n",
            "Epoch 100/100\n",
            "14798/14798 [==============================] - 4s 237us/sample - loss: 4.6143 - acc: 0.7117 - val_loss: 4.7298 - val_acc: 0.7026\n"
          ],
          "name": "stdout"
        }
      ]
    },
    {
      "metadata": {
        "id": "06KsAXkPcG3U",
        "colab_type": "code",
        "outputId": "2145c3cb-4215-4e16-d2c1-ae3a17ad8801",
        "colab": {
          "base_uri": "https://localhost:8080/",
          "height": 795
        }
      },
      "cell_type": "code",
      "source": [
        "plot_history(history,epochs,top_model_train_history)\n",
        "# save_model_weights_history_to_drive(top_model_name,top_model_weights_path,top_model_train_history)"
      ],
      "execution_count": 0,
      "outputs": [
        {
          "output_type": "display_data",
          "data": {
            "image/png": "[encoded data removed]",
            "text/plain": [
              "<Figure size 560x400 with 1 Axes>"
            ]
          },
          "metadata": {
            "tags": []
          }
        },
        {
          "output_type": "display_data",
          "data": {
            "image/png": "[encoded data removed]",
            "text/plain": [
              "<Figure size 560x400 with 1 Axes>"
            ]
          },
          "metadata": {
            "tags": []
          }
        }
      ]
    },
    {
      "metadata": {
        "id": "dRXGQFJ7s0Eo",
        "colab_type": "code",
        "outputId": "e577d51f-b0ad-470b-a284-6b652ac9b7d7",
        "colab": {
          "base_uri": "https://localhost:8080/",
          "height": 5244
        }
      },
      "cell_type": "code",
      "source": [
        "epochs=150\n",
        "history2,model2=train_top_model_validate_with_test(False,\"rmsprop\")\n"
      ],
      "execution_count": 10,
      "outputs": [
        {
          "output_type": "stream",
          "text": [
            "Train on 1237 samples, validate on 157 samples\n",
            "Epoch 1/150\n",
            "1237/1237 [==============================] - 0s 381us/sample - loss: 8.7076 - acc: 0.4285 - val_loss: 6.9585 - val_acc: 0.5669\n",
            "Epoch 2/150\n",
            "1237/1237 [==============================] - 0s 222us/sample - loss: 7.5899 - acc: 0.5061 - val_loss: 6.8307 - val_acc: 0.5669\n",
            "Epoch 3/150\n",
            "1237/1237 [==============================] - 0s 216us/sample - loss: 7.4349 - acc: 0.5198 - val_loss: 7.9213 - val_acc: 0.4904\n",
            "Epoch 4/150\n",
            "1237/1237 [==============================] - 0s 223us/sample - loss: 6.1324 - acc: 0.6015 - val_loss: 6.6487 - val_acc: 0.5669\n",
            "Epoch 5/150\n",
            "1237/1237 [==============================] - 0s 222us/sample - loss: 6.1445 - acc: 0.6055 - val_loss: 6.6252 - val_acc: 0.5860\n",
            "Epoch 6/150\n",
            "1237/1237 [==============================] - 0s 242us/sample - loss: 5.7406 - acc: 0.6289 - val_loss: 6.3452 - val_acc: 0.5924\n",
            "Epoch 7/150\n",
            "1237/1237 [==============================] - 0s 260us/sample - loss: 5.3603 - acc: 0.6540 - val_loss: 6.7191 - val_acc: 0.5669\n",
            "Epoch 8/150\n",
            "1237/1237 [==============================] - 0s 252us/sample - loss: 6.0717 - acc: 0.6136 - val_loss: 6.0964 - val_acc: 0.5987\n",
            "Epoch 9/150\n",
            "1237/1237 [==============================] - 0s 257us/sample - loss: 5.2920 - acc: 0.6597 - val_loss: 6.4678 - val_acc: 0.5987\n",
            "Epoch 10/150\n",
            "1237/1237 [==============================] - 0s 256us/sample - loss: 6.0693 - acc: 0.6144 - val_loss: 6.7758 - val_acc: 0.5796\n",
            "Epoch 11/150\n",
            "1237/1237 [==============================] - 0s 252us/sample - loss: 5.0425 - acc: 0.6726 - val_loss: 6.0720 - val_acc: 0.6178\n",
            "Epoch 12/150\n",
            "1237/1237 [==============================] - 0s 255us/sample - loss: 4.7751 - acc: 0.6952 - val_loss: 6.3003 - val_acc: 0.5987\n",
            "Epoch 13/150\n",
            "1237/1237 [==============================] - 0s 249us/sample - loss: 5.0559 - acc: 0.6783 - val_loss: 7.4966 - val_acc: 0.5287\n",
            "Epoch 14/150\n",
            "1237/1237 [==============================] - 0s 258us/sample - loss: 5.0475 - acc: 0.6774 - val_loss: 6.1121 - val_acc: 0.5987\n",
            "Epoch 15/150\n",
            "1237/1237 [==============================] - 0s 261us/sample - loss: 4.4798 - acc: 0.7146 - val_loss: 5.4379 - val_acc: 0.6624\n",
            "Epoch 16/150\n",
            "1237/1237 [==============================] - 0s 252us/sample - loss: 4.4362 - acc: 0.7146 - val_loss: 5.9592 - val_acc: 0.6242\n",
            "Epoch 17/150\n",
            "1237/1237 [==============================] - 0s 261us/sample - loss: 4.7989 - acc: 0.6936 - val_loss: 5.5272 - val_acc: 0.6497\n",
            "Epoch 18/150\n",
            "1237/1237 [==============================] - 0s 261us/sample - loss: 4.0044 - acc: 0.7437 - val_loss: 6.1598 - val_acc: 0.6178\n",
            "Epoch 19/150\n",
            "1237/1237 [==============================] - 0s 255us/sample - loss: 4.2730 - acc: 0.7235 - val_loss: 6.1560 - val_acc: 0.6178\n",
            "Epoch 20/150\n",
            "1237/1237 [==============================] - 0s 257us/sample - loss: 4.1293 - acc: 0.7340 - val_loss: 5.6284 - val_acc: 0.6433\n",
            "Epoch 21/150\n",
            "1237/1237 [==============================] - 0s 251us/sample - loss: 4.2225 - acc: 0.7324 - val_loss: 6.2153 - val_acc: 0.6115\n",
            "Epoch 22/150\n",
            "1237/1237 [==============================] - 0s 244us/sample - loss: 4.5200 - acc: 0.7146 - val_loss: 6.1601 - val_acc: 0.6178\n",
            "Epoch 23/150\n",
            "1237/1237 [==============================] - 0s 259us/sample - loss: 3.9411 - acc: 0.7502 - val_loss: 6.2193 - val_acc: 0.6051\n",
            "Epoch 24/150\n",
            "1237/1237 [==============================] - 0s 246us/sample - loss: 4.1887 - acc: 0.7332 - val_loss: 5.7268 - val_acc: 0.6242\n",
            "Epoch 25/150\n",
            "1237/1237 [==============================] - 0s 247us/sample - loss: 4.0087 - acc: 0.7397 - val_loss: 5.9412 - val_acc: 0.6242\n",
            "Epoch 26/150\n",
            "1237/1237 [==============================] - 0s 261us/sample - loss: 3.7192 - acc: 0.7631 - val_loss: 6.6731 - val_acc: 0.5860\n",
            "Epoch 27/150\n",
            "1237/1237 [==============================] - 0s 247us/sample - loss: 3.8796 - acc: 0.7559 - val_loss: 6.0653 - val_acc: 0.6178\n",
            "Epoch 28/150\n",
            "1237/1237 [==============================] - 0s 246us/sample - loss: 3.7222 - acc: 0.7615 - val_loss: 6.0333 - val_acc: 0.6178\n",
            "Epoch 29/150\n",
            "1237/1237 [==============================] - 0s 249us/sample - loss: 3.7121 - acc: 0.7672 - val_loss: 6.3183 - val_acc: 0.6051\n",
            "Epoch 30/150\n",
            "1237/1237 [==============================] - 0s 250us/sample - loss: 3.8069 - acc: 0.7615 - val_loss: 5.9549 - val_acc: 0.6306\n",
            "Epoch 31/150\n",
            "1237/1237 [==============================] - 0s 259us/sample - loss: 3.6760 - acc: 0.7656 - val_loss: 5.8903 - val_acc: 0.6306\n",
            "Epoch 32/150\n",
            "1237/1237 [==============================] - 0s 246us/sample - loss: 3.9202 - acc: 0.7494 - val_loss: 6.7727 - val_acc: 0.5732\n",
            "Epoch 33/150\n",
            "1237/1237 [==============================] - 0s 260us/sample - loss: 3.5731 - acc: 0.7753 - val_loss: 6.0370 - val_acc: 0.6242\n",
            "Epoch 34/150\n",
            "1237/1237 [==============================] - 0s 248us/sample - loss: 3.3273 - acc: 0.7882 - val_loss: 5.3385 - val_acc: 0.6688\n",
            "Epoch 35/150\n",
            "1237/1237 [==============================] - 0s 247us/sample - loss: 3.5365 - acc: 0.7769 - val_loss: 5.3301 - val_acc: 0.6688\n",
            "Epoch 36/150\n",
            "1237/1237 [==============================] - 0s 256us/sample - loss: 3.5005 - acc: 0.7769 - val_loss: 6.6742 - val_acc: 0.5860\n",
            "Epoch 37/150\n",
            "1237/1237 [==============================] - 0s 252us/sample - loss: 4.0207 - acc: 0.7470 - val_loss: 6.2626 - val_acc: 0.6115\n",
            "Epoch 38/150\n",
            "1237/1237 [==============================] - 0s 249us/sample - loss: 3.6873 - acc: 0.7639 - val_loss: 5.4633 - val_acc: 0.6433\n",
            "Epoch 39/150\n",
            "1237/1237 [==============================] - 0s 260us/sample - loss: 3.2587 - acc: 0.7922 - val_loss: 5.3784 - val_acc: 0.6624\n",
            "Epoch 40/150\n",
            "1237/1237 [==============================] - 0s 251us/sample - loss: 3.3782 - acc: 0.7874 - val_loss: 5.1307 - val_acc: 0.6815\n",
            "Epoch 41/150\n",
            "1237/1237 [==============================] - 0s 256us/sample - loss: 3.6166 - acc: 0.7664 - val_loss: 8.3488 - val_acc: 0.4777\n",
            "Epoch 42/150\n",
            "1237/1237 [==============================] - 0s 253us/sample - loss: 4.2687 - acc: 0.7308 - val_loss: 5.0889 - val_acc: 0.6752\n",
            "Epoch 43/150\n",
            "1237/1237 [==============================] - 0s 249us/sample - loss: 3.1500 - acc: 0.8011 - val_loss: 5.3321 - val_acc: 0.6688\n",
            "Epoch 44/150\n",
            "1237/1237 [==============================] - 0s 247us/sample - loss: 3.0465 - acc: 0.8060 - val_loss: 5.8477 - val_acc: 0.6306\n",
            "Epoch 45/150\n",
            "1237/1237 [==============================] - 0s 252us/sample - loss: 3.6032 - acc: 0.7720 - val_loss: 6.1666 - val_acc: 0.6115\n",
            "Epoch 46/150\n",
            "1237/1237 [==============================] - 0s 258us/sample - loss: 3.4142 - acc: 0.7842 - val_loss: 5.3386 - val_acc: 0.6624\n",
            "Epoch 47/150\n",
            "1237/1237 [==============================] - 0s 253us/sample - loss: 3.5990 - acc: 0.7728 - val_loss: 5.2010 - val_acc: 0.6752\n",
            "Epoch 48/150\n",
            "1237/1237 [==============================] - 0s 246us/sample - loss: 3.3751 - acc: 0.7833 - val_loss: 5.6797 - val_acc: 0.6369\n",
            "Epoch 49/150\n",
            "1237/1237 [==============================] - 0s 256us/sample - loss: 3.1425 - acc: 0.8036 - val_loss: 5.1785 - val_acc: 0.6688\n",
            "Epoch 50/150\n",
            "1237/1237 [==============================] - 0s 249us/sample - loss: 2.9719 - acc: 0.8116 - val_loss: 4.7841 - val_acc: 0.7006\n",
            "Epoch 51/150\n",
            "1237/1237 [==============================] - 0s 251us/sample - loss: 3.3503 - acc: 0.7866 - val_loss: 4.6260 - val_acc: 0.7070\n",
            "Epoch 52/150\n",
            "1237/1237 [==============================] - 0s 255us/sample - loss: 2.9707 - acc: 0.8116 - val_loss: 4.9143 - val_acc: 0.6943\n",
            "Epoch 53/150\n",
            "1237/1237 [==============================] - 0s 246us/sample - loss: 3.1887 - acc: 0.7987 - val_loss: 4.6312 - val_acc: 0.7070\n",
            "Epoch 54/150\n",
            "1237/1237 [==============================] - 0s 250us/sample - loss: 3.4346 - acc: 0.7833 - val_loss: 4.2095 - val_acc: 0.7389\n",
            "Epoch 55/150\n",
            "1237/1237 [==============================] - 0s 255us/sample - loss: 3.3586 - acc: 0.7890 - val_loss: 4.8477 - val_acc: 0.6943\n",
            "Epoch 56/150\n",
            "1237/1237 [==============================] - 0s 249us/sample - loss: 2.9385 - acc: 0.8133 - val_loss: 5.1334 - val_acc: 0.6815\n",
            "Epoch 57/150\n",
            "1237/1237 [==============================] - 0s 253us/sample - loss: 3.0408 - acc: 0.8068 - val_loss: 5.3523 - val_acc: 0.6624\n",
            "Epoch 58/150\n",
            "1237/1237 [==============================] - 0s 250us/sample - loss: 3.1232 - acc: 0.8044 - val_loss: 5.4958 - val_acc: 0.6497\n",
            "Epoch 59/150\n",
            "1237/1237 [==============================] - 0s 262us/sample - loss: 3.2620 - acc: 0.7930 - val_loss: 5.6876 - val_acc: 0.6433\n",
            "Epoch 60/150\n",
            "1237/1237 [==============================] - 0s 250us/sample - loss: 3.0157 - acc: 0.8092 - val_loss: 5.4300 - val_acc: 0.6497\n",
            "Epoch 61/150\n",
            "1237/1237 [==============================] - 0s 249us/sample - loss: 2.8475 - acc: 0.8213 - val_loss: 5.3340 - val_acc: 0.6688\n",
            "Epoch 62/150\n",
            "1237/1237 [==============================] - 0s 258us/sample - loss: 2.8882 - acc: 0.8181 - val_loss: 5.6402 - val_acc: 0.6497\n",
            "Epoch 63/150\n",
            "1237/1237 [==============================] - 0s 251us/sample - loss: 2.8349 - acc: 0.8205 - val_loss: 6.5048 - val_acc: 0.5860\n",
            "Epoch 64/150\n",
            "1237/1237 [==============================] - 0s 257us/sample - loss: 2.8591 - acc: 0.8173 - val_loss: 6.3669 - val_acc: 0.6051\n",
            "Epoch 65/150\n",
            "1237/1237 [==============================] - 0s 253us/sample - loss: 2.4130 - acc: 0.8464 - val_loss: 6.5704 - val_acc: 0.5924\n",
            "Epoch 66/150\n",
            "1237/1237 [==============================] - 0s 249us/sample - loss: 2.9224 - acc: 0.8141 - val_loss: 5.9929 - val_acc: 0.6242\n",
            "Epoch 67/150\n",
            "1237/1237 [==============================] - 0s 243us/sample - loss: 3.2627 - acc: 0.7947 - val_loss: 5.7793 - val_acc: 0.6369\n",
            "Epoch 68/150\n",
            "1237/1237 [==============================] - 0s 258us/sample - loss: 3.2561 - acc: 0.7947 - val_loss: 6.4441 - val_acc: 0.5987\n",
            "Epoch 69/150\n",
            "1237/1237 [==============================] - 0s 249us/sample - loss: 2.7045 - acc: 0.8286 - val_loss: 5.2702 - val_acc: 0.6624\n",
            "Epoch 70/150\n",
            "1237/1237 [==============================] - 0s 255us/sample - loss: 2.7454 - acc: 0.8286 - val_loss: 5.9092 - val_acc: 0.6306\n",
            "Epoch 71/150\n",
            "1237/1237 [==============================] - 0s 250us/sample - loss: 2.9044 - acc: 0.8173 - val_loss: 5.5732 - val_acc: 0.6497\n",
            "Epoch 72/150\n",
            "1237/1237 [==============================] - 0s 259us/sample - loss: 3.0586 - acc: 0.8068 - val_loss: 5.9699 - val_acc: 0.6242\n",
            "Epoch 73/150\n",
            "1237/1237 [==============================] - 0s 249us/sample - loss: 3.2630 - acc: 0.7963 - val_loss: 5.3615 - val_acc: 0.6624\n",
            "Epoch 74/150\n",
            "1237/1237 [==============================] - 0s 244us/sample - loss: 3.6134 - acc: 0.7712 - val_loss: 6.3663 - val_acc: 0.6051\n",
            "Epoch 75/150\n",
            "1237/1237 [==============================] - 0s 261us/sample - loss: 3.1534 - acc: 0.8003 - val_loss: 7.1991 - val_acc: 0.5414\n",
            "Epoch 76/150\n",
            "1237/1237 [==============================] - 0s 251us/sample - loss: 3.2095 - acc: 0.7955 - val_loss: 6.7499 - val_acc: 0.5605\n",
            "Epoch 77/150\n",
            "1237/1237 [==============================] - 0s 244us/sample - loss: 3.1965 - acc: 0.8003 - val_loss: 6.1064 - val_acc: 0.6178\n",
            "Epoch 78/150\n",
            "1237/1237 [==============================] - 0s 256us/sample - loss: 3.1578 - acc: 0.7979 - val_loss: 5.3237 - val_acc: 0.6624\n",
            "Epoch 79/150\n",
            "1237/1237 [==============================] - 0s 249us/sample - loss: 3.2153 - acc: 0.7979 - val_loss: 5.6465 - val_acc: 0.6497\n",
            "Epoch 80/150\n",
            "1237/1237 [==============================] - 0s 242us/sample - loss: 3.1782 - acc: 0.8003 - val_loss: 5.6492 - val_acc: 0.6369\n",
            "Epoch 81/150\n",
            "1237/1237 [==============================] - 0s 260us/sample - loss: 2.8272 - acc: 0.8230 - val_loss: 5.6473 - val_acc: 0.6497\n",
            "Epoch 82/150\n",
            "1237/1237 [==============================] - 0s 245us/sample - loss: 2.7228 - acc: 0.8262 - val_loss: 5.6812 - val_acc: 0.6433\n",
            "Epoch 83/150\n",
            "1237/1237 [==============================] - 0s 248us/sample - loss: 2.6301 - acc: 0.8343 - val_loss: 5.6739 - val_acc: 0.6433\n",
            "Epoch 84/150\n",
            "1237/1237 [==============================] - 0s 256us/sample - loss: 3.0255 - acc: 0.8100 - val_loss: 5.7491 - val_acc: 0.6433\n",
            "Epoch 85/150\n",
            "1237/1237 [==============================] - 0s 262us/sample - loss: 2.6903 - acc: 0.8286 - val_loss: 5.8449 - val_acc: 0.6369\n",
            "Epoch 86/150\n",
            "1237/1237 [==============================] - 0s 244us/sample - loss: 2.7922 - acc: 0.8238 - val_loss: 6.4971 - val_acc: 0.5924\n",
            "Epoch 87/150\n",
            "1237/1237 [==============================] - 0s 246us/sample - loss: 3.1996 - acc: 0.7995 - val_loss: 6.1598 - val_acc: 0.6178\n",
            "Epoch 88/150\n",
            "1237/1237 [==============================] - 0s 258us/sample - loss: 2.5797 - acc: 0.8375 - val_loss: 5.4180 - val_acc: 0.6624\n",
            "Epoch 89/150\n",
            "1237/1237 [==============================] - 0s 248us/sample - loss: 2.3194 - acc: 0.8553 - val_loss: 5.0241 - val_acc: 0.6879\n",
            "Epoch 90/150\n",
            "1237/1237 [==============================] - 0s 255us/sample - loss: 2.6518 - acc: 0.8319 - val_loss: 4.8329 - val_acc: 0.6943\n",
            "Epoch 91/150\n",
            "1237/1237 [==============================] - 0s 260us/sample - loss: 2.4695 - acc: 0.8456 - val_loss: 4.9499 - val_acc: 0.6879\n",
            "Epoch 92/150\n",
            "1237/1237 [==============================] - 0s 252us/sample - loss: 2.6052 - acc: 0.8367 - val_loss: 4.7229 - val_acc: 0.7070\n",
            "Epoch 93/150\n",
            "1237/1237 [==============================] - 0s 249us/sample - loss: 2.5092 - acc: 0.8399 - val_loss: 4.5494 - val_acc: 0.7134\n",
            "Epoch 94/150\n",
            "1237/1237 [==============================] - 0s 258us/sample - loss: 2.5973 - acc: 0.8359 - val_loss: 4.7225 - val_acc: 0.7070\n",
            "Epoch 95/150\n",
            "1237/1237 [==============================] - 0s 249us/sample - loss: 3.0621 - acc: 0.8036 - val_loss: 5.2358 - val_acc: 0.6752\n",
            "Epoch 96/150\n",
            "1237/1237 [==============================] - 0s 247us/sample - loss: 3.0740 - acc: 0.8060 - val_loss: 5.0305 - val_acc: 0.6879\n",
            "Epoch 97/150\n",
            "1237/1237 [==============================] - 0s 257us/sample - loss: 3.4746 - acc: 0.7817 - val_loss: 5.3376 - val_acc: 0.6624\n",
            "Epoch 98/150\n",
            "1237/1237 [==============================] - 0s 252us/sample - loss: 2.8931 - acc: 0.8181 - val_loss: 5.6386 - val_acc: 0.6497\n",
            "Epoch 99/150\n",
            "1237/1237 [==============================] - 0s 249us/sample - loss: 2.6568 - acc: 0.8335 - val_loss: 5.9576 - val_acc: 0.6306\n",
            "Epoch 100/150\n",
            "1237/1237 [==============================] - 0s 251us/sample - loss: 2.5563 - acc: 0.8391 - val_loss: 5.6465 - val_acc: 0.6497\n",
            "Epoch 101/150\n",
            "1237/1237 [==============================] - 0s 256us/sample - loss: 2.6185 - acc: 0.8367 - val_loss: 5.3227 - val_acc: 0.6688\n",
            "Epoch 102/150\n",
            "1237/1237 [==============================] - 0s 248us/sample - loss: 2.5477 - acc: 0.8407 - val_loss: 4.9568 - val_acc: 0.6879\n",
            "Epoch 103/150\n",
            "1237/1237 [==============================] - 0s 252us/sample - loss: 2.7404 - acc: 0.8270 - val_loss: 5.2928 - val_acc: 0.6624\n",
            "Epoch 104/150\n",
            "1237/1237 [==============================] - 0s 256us/sample - loss: 2.6442 - acc: 0.8351 - val_loss: 5.2644 - val_acc: 0.6688\n",
            "Epoch 105/150\n",
            "1237/1237 [==============================] - 0s 245us/sample - loss: 2.5956 - acc: 0.8367 - val_loss: 5.2399 - val_acc: 0.6752\n",
            "Epoch 106/150\n",
            "1237/1237 [==============================] - 0s 252us/sample - loss: 2.4240 - acc: 0.8464 - val_loss: 5.3978 - val_acc: 0.6624\n",
            "Epoch 107/150\n",
            "1237/1237 [==============================] - 0s 258us/sample - loss: 2.4850 - acc: 0.8424 - val_loss: 5.3708 - val_acc: 0.6624\n",
            "Epoch 108/150\n",
            "1237/1237 [==============================] - 0s 246us/sample - loss: 2.2935 - acc: 0.8553 - val_loss: 5.7517 - val_acc: 0.6369\n",
            "Epoch 109/150\n",
            "1237/1237 [==============================] - 0s 249us/sample - loss: 2.2122 - acc: 0.8610 - val_loss: 6.6379 - val_acc: 0.5860\n",
            "Epoch 110/150\n",
            "1237/1237 [==============================] - 0s 249us/sample - loss: 2.3926 - acc: 0.8488 - val_loss: 6.2624 - val_acc: 0.6115\n",
            "Epoch 111/150\n",
            "1237/1237 [==============================] - 0s 260us/sample - loss: 2.3035 - acc: 0.8545 - val_loss: 7.1130 - val_acc: 0.5541\n",
            "Epoch 112/150\n",
            "1237/1237 [==============================] - 0s 261us/sample - loss: 2.7343 - acc: 0.8294 - val_loss: 5.8843 - val_acc: 0.6306\n",
            "Epoch 113/150\n",
            "1237/1237 [==============================] - 0s 244us/sample - loss: 2.8524 - acc: 0.8222 - val_loss: 5.8757 - val_acc: 0.6242\n",
            "Epoch 114/150\n",
            "1237/1237 [==============================] - 0s 255us/sample - loss: 2.4884 - acc: 0.8424 - val_loss: 6.7919 - val_acc: 0.5732\n",
            "Epoch 115/150\n",
            "1237/1237 [==============================] - 0s 245us/sample - loss: 2.3415 - acc: 0.8513 - val_loss: 6.0579 - val_acc: 0.6115\n",
            "Epoch 116/150\n",
            "1237/1237 [==============================] - 0s 255us/sample - loss: 2.4817 - acc: 0.8440 - val_loss: 5.9748 - val_acc: 0.6242\n",
            "Epoch 117/150\n",
            "1237/1237 [==============================] - 0s 258us/sample - loss: 2.7482 - acc: 0.8278 - val_loss: 6.6762 - val_acc: 0.5860\n",
            "Epoch 118/150\n",
            "1237/1237 [==============================] - 0s 251us/sample - loss: 2.3589 - acc: 0.8521 - val_loss: 5.6487 - val_acc: 0.6433\n",
            "Epoch 119/150\n",
            "1237/1237 [==============================] - 0s 267us/sample - loss: 2.6698 - acc: 0.8327 - val_loss: 5.7143 - val_acc: 0.6369\n",
            "Epoch 120/150\n",
            "1237/1237 [==============================] - 0s 275us/sample - loss: 2.2010 - acc: 0.8610 - val_loss: 5.8245 - val_acc: 0.6178\n",
            "Epoch 121/150\n",
            "1237/1237 [==============================] - 0s 269us/sample - loss: 2.6402 - acc: 0.8351 - val_loss: 6.1598 - val_acc: 0.6178\n",
            "Epoch 122/150\n",
            "1237/1237 [==============================] - 0s 270us/sample - loss: 2.4045 - acc: 0.8496 - val_loss: 4.9278 - val_acc: 0.6943\n",
            "Epoch 123/150\n",
            "1237/1237 [==============================] - 0s 279us/sample - loss: 2.5422 - acc: 0.8399 - val_loss: 4.9314 - val_acc: 0.6943\n",
            "Epoch 124/150\n",
            "1237/1237 [==============================] - 0s 271us/sample - loss: 2.7714 - acc: 0.8270 - val_loss: 5.2359 - val_acc: 0.6752\n",
            "Epoch 125/150\n",
            "1237/1237 [==============================] - 0s 264us/sample - loss: 2.1801 - acc: 0.8626 - val_loss: 5.5261 - val_acc: 0.6561\n",
            "Epoch 126/150\n",
            "1237/1237 [==============================] - 0s 277us/sample - loss: 2.0441 - acc: 0.8715 - val_loss: 5.1725 - val_acc: 0.6752\n",
            "Epoch 127/150\n",
            "1237/1237 [==============================] - 0s 271us/sample - loss: 2.5948 - acc: 0.8367 - val_loss: 4.7864 - val_acc: 0.6943\n",
            "Epoch 128/150\n",
            "1237/1237 [==============================] - 0s 266us/sample - loss: 2.5375 - acc: 0.8416 - val_loss: 5.0305 - val_acc: 0.6879\n",
            "Epoch 129/150\n",
            "1237/1237 [==============================] - 0s 273us/sample - loss: 2.4213 - acc: 0.8496 - val_loss: 5.3385 - val_acc: 0.6688\n",
            "Epoch 130/150\n",
            "1237/1237 [==============================] - 0s 265us/sample - loss: 2.2545 - acc: 0.8601 - val_loss: 5.4126 - val_acc: 0.6561\n",
            "Epoch 131/150\n",
            "1237/1237 [==============================] - 0s 266us/sample - loss: 2.2901 - acc: 0.8553 - val_loss: 5.0230 - val_acc: 0.6815\n",
            "Epoch 132/150\n",
            "1237/1237 [==============================] - 0s 273us/sample - loss: 2.4472 - acc: 0.8456 - val_loss: 7.5909 - val_acc: 0.5223\n",
            "Epoch 133/150\n",
            "1237/1237 [==============================] - 0s 273us/sample - loss: 4.1860 - acc: 0.7389 - val_loss: 9.1637 - val_acc: 0.4204\n",
            "Epoch 134/150\n",
            "1237/1237 [==============================] - 0s 259us/sample - loss: 3.8637 - acc: 0.7583 - val_loss: 5.9853 - val_acc: 0.6242\n",
            "Epoch 135/150\n",
            "1237/1237 [==============================] - 0s 254us/sample - loss: 2.5759 - acc: 0.8383 - val_loss: 6.4678 - val_acc: 0.5987\n",
            "Epoch 136/150\n",
            "1237/1237 [==============================] - 0s 250us/sample - loss: 2.4183 - acc: 0.8488 - val_loss: 5.5438 - val_acc: 0.6561\n",
            "Epoch 137/150\n",
            "1237/1237 [==============================] - 0s 248us/sample - loss: 2.5022 - acc: 0.8440 - val_loss: 5.3385 - val_acc: 0.6688\n",
            "Epoch 138/150\n",
            "1237/1237 [==============================] - 0s 255us/sample - loss: 2.9654 - acc: 0.8141 - val_loss: 5.2856 - val_acc: 0.6688\n",
            "Epoch 139/150\n",
            "1237/1237 [==============================] - 0s 246us/sample - loss: 3.2466 - acc: 0.7971 - val_loss: 5.1692 - val_acc: 0.6688\n",
            "Epoch 140/150\n",
            "1237/1237 [==============================] - 0s 250us/sample - loss: 2.9667 - acc: 0.8116 - val_loss: 5.6331 - val_acc: 0.6497\n",
            "Epoch 141/150\n",
            "1237/1237 [==============================] - 0s 252us/sample - loss: 2.4109 - acc: 0.8488 - val_loss: 6.3917 - val_acc: 0.5987\n",
            "Epoch 142/150\n",
            "1237/1237 [==============================] - 0s 256us/sample - loss: 2.4028 - acc: 0.8472 - val_loss: 6.0909 - val_acc: 0.6115\n",
            "Epoch 143/150\n",
            "1237/1237 [==============================] - 0s 246us/sample - loss: 2.3315 - acc: 0.8529 - val_loss: 5.0305 - val_acc: 0.6879\n",
            "Epoch 144/150\n",
            "1237/1237 [==============================] - 0s 249us/sample - loss: 2.3457 - acc: 0.8521 - val_loss: 5.4411 - val_acc: 0.6624\n",
            "Epoch 145/150\n",
            "1237/1237 [==============================] - 0s 258us/sample - loss: 2.6403 - acc: 0.8335 - val_loss: 5.1208 - val_acc: 0.6815\n",
            "Epoch 146/150\n",
            "1237/1237 [==============================] - 0s 251us/sample - loss: 2.3540 - acc: 0.8537 - val_loss: 5.3385 - val_acc: 0.6688\n",
            "Epoch 147/150\n",
            "1237/1237 [==============================] - 0s 249us/sample - loss: 2.4220 - acc: 0.8480 - val_loss: 5.3649 - val_acc: 0.6624\n",
            "Epoch 148/150\n",
            "1237/1237 [==============================] - 0s 253us/sample - loss: 2.2125 - acc: 0.8610 - val_loss: 5.5545 - val_acc: 0.6497\n",
            "Epoch 149/150\n",
            "1237/1237 [==============================] - 0s 246us/sample - loss: 2.0906 - acc: 0.8682 - val_loss: 5.9382 - val_acc: 0.6306\n",
            "Epoch 150/150\n",
            "1237/1237 [==============================] - 0s 254us/sample - loss: 2.0573 - acc: 0.8715 - val_loss: 5.0986 - val_acc: 0.6815\n"
          ],
          "name": "stdout"
        }
      ]
    },
    {
      "metadata": {
        "id": "NGKvbMFQvSrX",
        "colab_type": "code",
        "outputId": "6b9b3bcf-46b6-45e6-dcb8-bbe62a3fb76b",
        "colab": {
          "base_uri": "https://localhost:8080/",
          "height": 795
        }
      },
      "cell_type": "code",
      "source": [
        "plot_history(history2,epochs,top_model_train_history_test)\n"
      ],
      "execution_count": 11,
      "outputs": [
        {
          "output_type": "display_data",
          "data": {
            "image/png": "[encoded data removed]",
            "text/plain": [
              "<Figure size 560x400 with 1 Axes>"
            ]
          },
          "metadata": {
            "tags": []
          }
        },
        {
          "output_type": "display_data",
          "data": {
            "image/png": "[encoded data removed]",
            "text/plain": [
              "<Figure size 560x400 with 1 Axes>"
            ]
          },
          "metadata": {
            "tags": []
          }
        }
      ]
    },
    {
      "metadata": {
        "id": "vZJraqeuviax",
        "colab_type": "code",
        "colab": {}
      },
      "cell_type": "code",
      "source": [
        "save_model_weights_history_to_drive(top_model_name_test,top_model_weights_path_test,top_model_train_history_test)"
      ],
      "execution_count": 0,
      "outputs": []
    },
    {
      "metadata": {
        "id": "2qVZooARuNSU",
        "colab_type": "code",
        "outputId": "3d9e61e1-a9c6-46e9-ce67-946fea5032fc",
        "colab": {
          "base_uri": "https://localhost:8080/",
          "height": 69
        }
      },
      "cell_type": "code",
      "source": [
        "#load_model_weights_history('1cZe_3OMAzRGgDhRyXDvgZF7JAZ17V3KP',\"16ld30JlGe-z5wRAxQt3YT4fZu_cjHo3q\",'1AD7tD-rpt9Vt5t-g7lZtcRMS_JNkA3Vm')"
      ],
      "execution_count": 0,
      "outputs": [
        {
          "output_type": "stream",
          "text": [
            "vgg16_direct.h5\n",
            "bottleneck_vgg_model.h5\n",
            "history_vgg_direct.npy\n"
          ],
          "name": "stdout"
        }
      ]
    },
    {
      "metadata": {
        "id": "1ZXvUiykswsL",
        "colab_type": "code",
        "outputId": "8f48c26e-2510-46cb-d840-2d5908b47550",
        "colab": {
          "base_uri": "https://localhost:8080/",
          "height": 1684
        }
      },
      "cell_type": "code",
      "source": [
        "trained_model =retrain_layers(top_model_weights_path,False)\n",
        "trained_model2 =retrain_layers(top_model_weights_path_test,False)\n",
        "#retrained_model,retrain_history=compile_train(trained_model)"
      ],
      "execution_count": 0,
      "outputs": [
        {
          "output_type": "stream",
          "text": [
            "_________________________________________________________________\n",
            "Layer (type)                 Output Shape              Param #   \n",
            "=================================================================\n",
            "input_17 (InputLayer)        (None, 150, 150, 3)       0         \n",
            "_________________________________________________________________\n",
            "block1_conv1 (Conv2D)        (None, 150, 150, 64)      1792      \n",
            "_________________________________________________________________\n",
            "block1_conv2 (Conv2D)        (None, 150, 150, 64)      36928     \n",
            "_________________________________________________________________\n",
            "block1_pool (MaxPooling2D)   (None, 75, 75, 64)        0         \n",
            "_________________________________________________________________\n",
            "block2_conv1 (Conv2D)        (None, 75, 75, 128)       73856     \n",
            "_________________________________________________________________\n",
            "block2_conv2 (Conv2D)        (None, 75, 75, 128)       147584    \n",
            "_________________________________________________________________\n",
            "block2_pool (MaxPooling2D)   (None, 37, 37, 128)       0         \n",
            "_________________________________________________________________\n",
            "block3_conv1 (Conv2D)        (None, 37, 37, 256)       295168    \n",
            "_________________________________________________________________\n",
            "block3_conv2 (Conv2D)        (None, 37, 37, 256)       590080    \n",
            "_________________________________________________________________\n",
            "block3_conv3 (Conv2D)        (None, 37, 37, 256)       590080    \n",
            "_________________________________________________________________\n",
            "block3_pool (MaxPooling2D)   (None, 18, 18, 256)       0         \n",
            "_________________________________________________________________\n",
            "block4_conv1 (Conv2D)        (None, 18, 18, 512)       1180160   \n",
            "_________________________________________________________________\n",
            "block4_conv2 (Conv2D)        (None, 18, 18, 512)       2359808   \n",
            "_________________________________________________________________\n",
            "block4_conv3 (Conv2D)        (None, 18, 18, 512)       2359808   \n",
            "_________________________________________________________________\n",
            "block4_pool (MaxPooling2D)   (None, 9, 9, 512)         0         \n",
            "_________________________________________________________________\n",
            "block5_conv1 (Conv2D)        (None, 9, 9, 512)         2359808   \n",
            "_________________________________________________________________\n",
            "block5_conv2 (Conv2D)        (None, 9, 9, 512)         2359808   \n",
            "_________________________________________________________________\n",
            "block5_conv3 (Conv2D)        (None, 9, 9, 512)         2359808   \n",
            "_________________________________________________________________\n",
            "block5_pool (MaxPooling2D)   (None, 4, 4, 512)         0         \n",
            "_________________________________________________________________\n",
            "sequential_13 (Sequential)   (None, 3)                 2098179   \n",
            "=================================================================\n",
            "Total params: 16,812,867\n",
            "Trainable params: 16,812,867\n",
            "Non-trainable params: 0\n",
            "_________________________________________________________________\n",
            "None\n",
            "_________________________________________________________________\n",
            "Layer (type)                 Output Shape              Param #   \n",
            "=================================================================\n",
            "input_18 (InputLayer)        (None, 150, 150, 3)       0         \n",
            "_________________________________________________________________\n",
            "block1_conv1 (Conv2D)        (None, 150, 150, 64)      1792      \n",
            "_________________________________________________________________\n",
            "block1_conv2 (Conv2D)        (None, 150, 150, 64)      36928     \n",
            "_________________________________________________________________\n",
            "block1_pool (MaxPooling2D)   (None, 75, 75, 64)        0         \n",
            "_________________________________________________________________\n",
            "block2_conv1 (Conv2D)        (None, 75, 75, 128)       73856     \n",
            "_________________________________________________________________\n",
            "block2_conv2 (Conv2D)        (None, 75, 75, 128)       147584    \n",
            "_________________________________________________________________\n",
            "block2_pool (MaxPooling2D)   (None, 37, 37, 128)       0         \n",
            "_________________________________________________________________\n",
            "block3_conv1 (Conv2D)        (None, 37, 37, 256)       295168    \n",
            "_________________________________________________________________\n",
            "block3_conv2 (Conv2D)        (None, 37, 37, 256)       590080    \n",
            "_________________________________________________________________\n",
            "block3_conv3 (Conv2D)        (None, 37, 37, 256)       590080    \n",
            "_________________________________________________________________\n",
            "block3_pool (MaxPooling2D)   (None, 18, 18, 256)       0         \n",
            "_________________________________________________________________\n",
            "block4_conv1 (Conv2D)        (None, 18, 18, 512)       1180160   \n",
            "_________________________________________________________________\n",
            "block4_conv2 (Conv2D)        (None, 18, 18, 512)       2359808   \n",
            "_________________________________________________________________\n",
            "block4_conv3 (Conv2D)        (None, 18, 18, 512)       2359808   \n",
            "_________________________________________________________________\n",
            "block4_pool (MaxPooling2D)   (None, 9, 9, 512)         0         \n",
            "_________________________________________________________________\n",
            "block5_conv1 (Conv2D)        (None, 9, 9, 512)         2359808   \n",
            "_________________________________________________________________\n",
            "block5_conv2 (Conv2D)        (None, 9, 9, 512)         2359808   \n",
            "_________________________________________________________________\n",
            "block5_conv3 (Conv2D)        (None, 9, 9, 512)         2359808   \n",
            "_________________________________________________________________\n",
            "block5_pool (MaxPooling2D)   (None, 4, 4, 512)         0         \n",
            "_________________________________________________________________\n",
            "sequential_14 (Sequential)   (None, 3)                 2098179   \n",
            "=================================================================\n",
            "Total params: 16,812,867\n",
            "Trainable params: 16,812,867\n",
            "Non-trainable params: 0\n",
            "_________________________________________________________________\n",
            "None\n"
          ],
          "name": "stdout"
        }
      ]
    },
    {
      "metadata": {
        "id": "2Vihcrh8013Y",
        "colab_type": "code",
        "colab": {}
      },
      "cell_type": "code",
      "source": [
        "# trained_model.layers[15]\n",
        "#trained_model.save_weights(\"bottleneck_vgg_model2.h5\")\n"
      ],
      "execution_count": 0,
      "outputs": []
    },
    {
      "metadata": {
        "id": "ynAh5iMqtbB7",
        "colab_type": "code",
        "outputId": "20d9dd63-db15-408a-afb9-1b09e719c335",
        "colab": {
          "base_uri": "https://localhost:8080/",
          "height": 1285
        }
      },
      "cell_type": "code",
      "source": [
        "#change batch size to make the training faster, can be replaced after loading data to tensorflow records\n",
        "batch_size=64\n",
        "epochs=50\n",
        "retrained_model,retrain_history=compile_train_transferlearning(trained_model)"
      ],
      "execution_count": 0,
      "outputs": [
        {
          "output_type": "stream",
          "text": [
            "Found 14798 images belonging to 3 classes.\n",
            "Found 2905 images belonging to 3 classes.\n",
            "Epoch 1/50\n",
            "46/46 [==============================] - 21s 461ms/step - loss: 10.4571 - acc: 0.3425\n",
            "232/232 [==============================] - 131s 563ms/step - loss: 10.5766 - acc: 0.3416 - val_loss: 10.4571 - val_acc: 0.3425\n",
            "Epoch 2/50\n",
            "46/46 [==============================] - 21s 455ms/step - loss: 10.4571 - acc: 0.3425\n",
            "232/232 [==============================] - 129s 556ms/step - loss: 10.5766 - acc: 0.3416 - val_loss: 10.4571 - val_acc: 0.3425\n",
            "Epoch 3/50\n",
            "46/46 [==============================] - 21s 460ms/step - loss: 10.4571 - acc: 0.3425\n",
            "232/232 [==============================] - 129s 555ms/step - loss: 10.5766 - acc: 0.3416 - val_loss: 10.4571 - val_acc: 0.3425\n",
            "Epoch 4/50\n",
            "46/46 [==============================] - 21s 461ms/step - loss: 10.4571 - acc: 0.3425\n",
            "232/232 [==============================] - 129s 554ms/step - loss: 10.5766 - acc: 0.3416 - val_loss: 10.4571 - val_acc: 0.3425\n",
            "Epoch 5/50\n",
            "46/46 [==============================] - 21s 457ms/step - loss: 10.4571 - acc: 0.3425\n",
            "232/232 [==============================] - 129s 555ms/step - loss: 10.5766 - acc: 0.3416 - val_loss: 10.4571 - val_acc: 0.3425\n",
            "Epoch 6/50\n",
            "46/46 [==============================] - 21s 456ms/step - loss: 10.4571 - acc: 0.3425\n",
            "232/232 [==============================] - 129s 556ms/step - loss: 10.5766 - acc: 0.3416 - val_loss: 10.4571 - val_acc: 0.3425\n",
            "Epoch 7/50\n",
            "46/46 [==============================] - 21s 457ms/step - loss: 10.4571 - acc: 0.3425\n",
            "232/232 [==============================] - 129s 555ms/step - loss: 10.5766 - acc: 0.3416 - val_loss: 10.4571 - val_acc: 0.3425\n",
            "Epoch 8/50\n",
            "46/46 [==============================] - 21s 455ms/step - loss: 10.4571 - acc: 0.3425\n",
            "232/232 [==============================] - 129s 556ms/step - loss: 10.5766 - acc: 0.3416 - val_loss: 10.4571 - val_acc: 0.3425\n",
            "Epoch 9/50\n",
            "46/46 [==============================] - 21s 453ms/step - loss: 10.4571 - acc: 0.3425\n",
            "232/232 [==============================] - 129s 555ms/step - loss: 10.5766 - acc: 0.3416 - val_loss: 10.4571 - val_acc: 0.3425\n",
            "Epoch 10/50\n",
            "46/46 [==============================] - 21s 455ms/step - loss: 10.4571 - acc: 0.3425\n",
            "232/232 [==============================] - 129s 554ms/step - loss: 10.5766 - acc: 0.3416 - val_loss: 10.4571 - val_acc: 0.3425\n",
            "Epoch 11/50\n",
            "46/46 [==============================] - 21s 458ms/step - loss: 10.4571 - acc: 0.3425\n",
            "232/232 [==============================] - 129s 558ms/step - loss: 10.5766 - acc: 0.3416 - val_loss: 10.4571 - val_acc: 0.3425\n",
            "Epoch 12/50\n",
            "46/46 [==============================] - 21s 458ms/step - loss: 10.4571 - acc: 0.3425\n",
            "232/232 [==============================] - 129s 556ms/step - loss: 10.5766 - acc: 0.3416 - val_loss: 10.4571 - val_acc: 0.3425\n",
            "Epoch 13/50\n",
            "46/46 [==============================] - 21s 456ms/step - loss: 10.4571 - acc: 0.3425\n",
            "232/232 [==============================] - 129s 556ms/step - loss: 10.5766 - acc: 0.3416 - val_loss: 10.4571 - val_acc: 0.3425\n",
            "Epoch 14/50\n",
            "46/46 [==============================] - 21s 457ms/step - loss: 10.4571 - acc: 0.3425\n",
            "232/232 [==============================] - 129s 555ms/step - loss: 10.5766 - acc: 0.3416 - val_loss: 10.4571 - val_acc: 0.3425\n",
            "Epoch 15/50\n",
            "46/46 [==============================] - 21s 465ms/step - loss: 10.4571 - acc: 0.3425\n",
            "232/232 [==============================] - 129s 554ms/step - loss: 10.5766 - acc: 0.3416 - val_loss: 10.4571 - val_acc: 0.3425\n",
            "Epoch 16/50\n",
            "46/46 [==============================] - 21s 459ms/step - loss: 10.4571 - acc: 0.3425\n",
            "232/232 [==============================] - 129s 556ms/step - loss: 10.5766 - acc: 0.3416 - val_loss: 10.4571 - val_acc: 0.3425\n",
            "Epoch 17/50\n",
            "46/46 [==============================] - 21s 455ms/step - loss: 10.4571 - acc: 0.3425\n",
            "232/232 [==============================] - 128s 553ms/step - loss: 10.5766 - acc: 0.3416 - val_loss: 10.4571 - val_acc: 0.3425\n",
            "Epoch 18/50\n",
            "46/46 [==============================] - 21s 454ms/step - loss: 10.4571 - acc: 0.3425\n",
            "232/232 [==============================] - 129s 555ms/step - loss: 10.5766 - acc: 0.3416 - val_loss: 10.4571 - val_acc: 0.3425\n",
            "Epoch 19/50\n",
            "46/46 [==============================] - 21s 456ms/step - loss: 10.4571 - acc: 0.3425\n",
            "232/232 [==============================] - 129s 555ms/step - loss: 10.5766 - acc: 0.3416 - val_loss: 10.4571 - val_acc: 0.3425\n",
            "Epoch 20/50\n",
            "46/46 [==============================] - 21s 452ms/step - loss: 10.4571 - acc: 0.3425\n",
            "232/232 [==============================] - 129s 554ms/step - loss: 10.5766 - acc: 0.3416 - val_loss: 10.4571 - val_acc: 0.3425\n",
            "Epoch 21/50\n",
            "46/46 [==============================] - 21s 459ms/step - loss: 10.4571 - acc: 0.3425\n",
            "232/232 [==============================] - 129s 556ms/step - loss: 10.5766 - acc: 0.3416 - val_loss: 10.4571 - val_acc: 0.3425\n",
            "Epoch 22/50\n",
            "46/46 [==============================] - 21s 452ms/step - loss: 10.4571 - acc: 0.3425\n",
            "232/232 [==============================] - 128s 551ms/step - loss: 10.5766 - acc: 0.3416 - val_loss: 10.4571 - val_acc: 0.3425\n",
            "Epoch 23/50\n",
            "46/46 [==============================] - 21s 460ms/step - loss: 10.4571 - acc: 0.3425\n",
            "232/232 [==============================] - 129s 557ms/step - loss: 10.5766 - acc: 0.3416 - val_loss: 10.4571 - val_acc: 0.3425\n",
            "Epoch 24/50\n",
            "26/46 [===============>..............] - ETA: 10s - loss: 16.1181 - acc: 0.0000e+00"
          ],
          "name": "stdout"
        }
      ]
    },
    {
      "metadata": {
        "id": "rZTN-_Br-ARA",
        "colab_type": "code",
        "colab": {}
      },
      "cell_type": "code",
      "source": [
        "def save_all(model,history,model_file_name,top_model_weights_path,train_history):\n",
        "    model.save_weights(top_model_weights_path)\n",
        "    model.save(model_file_name) \n",
        "    with open(train_history, 'wb') as file_pi:\n",
        "        pickle.dump(history.history, file_pi)\n",
        "    \n",
        "    save_model_weights_history_to_drive(model_file_name,top_model_weights_path,train_history)\n",
        "\n",
        "save_all(retrained_model,retrain_history,retrain_model_name,retrain_model_weight,retrain_model_history)"
      ],
      "execution_count": 0,
      "outputs": []
    },
    {
      "metadata": {
        "id": "q0P0GPSfUDUl",
        "colab_type": "code",
        "outputId": "b696c17c-2250-49f2-b001-9de426c82628",
        "colab": {
          "base_uri": "https://localhost:8080/",
          "height": 69
        }
      },
      "cell_type": "code",
      "source": [
        "load_model_weights_history('1cZe_3OMAzRGgDhRyXDvgZF7JAZ17V3KP',\"16ld30JlGe-z5wRAxQt3YT4fZu_cjHo3q\",'1AD7tD-rpt9Vt5t-g7lZtcRMS_JNkA3Vm')\n"
      ],
      "execution_count": 0,
      "outputs": [
        {
          "output_type": "stream",
          "text": [
            "vgg16_direct.h5\n",
            "bottleneck_vgg_model.h5\n",
            "history_vgg_direct.npy\n"
          ],
          "name": "stdout"
        }
      ]
    },
    {
      "metadata": {
        "id": "gk7U0YvaUz1c",
        "colab_type": "code",
        "outputId": "69f9040e-f270-4f2a-a428-b2ea8bb5bc27",
        "colab": {
          "base_uri": "https://localhost:8080/",
          "height": 851
        }
      },
      "cell_type": "code",
      "source": [
        "trained_model =retrain_layers(top_model_weights_path)\n"
      ],
      "execution_count": 0,
      "outputs": [
        {
          "output_type": "stream",
          "text": [
            "_________________________________________________________________\n",
            "Layer (type)                 Output Shape              Param #   \n",
            "=================================================================\n",
            "input_2 (InputLayer)         (None, 150, 150, 3)       0         \n",
            "_________________________________________________________________\n",
            "block1_conv1 (Conv2D)        (None, 150, 150, 64)      1792      \n",
            "_________________________________________________________________\n",
            "block1_conv2 (Conv2D)        (None, 150, 150, 64)      36928     \n",
            "_________________________________________________________________\n",
            "block1_pool (MaxPooling2D)   (None, 75, 75, 64)        0         \n",
            "_________________________________________________________________\n",
            "block2_conv1 (Conv2D)        (None, 75, 75, 128)       73856     \n",
            "_________________________________________________________________\n",
            "block2_conv2 (Conv2D)        (None, 75, 75, 128)       147584    \n",
            "_________________________________________________________________\n",
            "block2_pool (MaxPooling2D)   (None, 37, 37, 128)       0         \n",
            "_________________________________________________________________\n",
            "block3_conv1 (Conv2D)        (None, 37, 37, 256)       295168    \n",
            "_________________________________________________________________\n",
            "block3_conv2 (Conv2D)        (None, 37, 37, 256)       590080    \n",
            "_________________________________________________________________\n",
            "block3_conv3 (Conv2D)        (None, 37, 37, 256)       590080    \n",
            "_________________________________________________________________\n",
            "block3_pool (MaxPooling2D)   (None, 18, 18, 256)       0         \n",
            "_________________________________________________________________\n",
            "block4_conv1 (Conv2D)        (None, 18, 18, 512)       1180160   \n",
            "_________________________________________________________________\n",
            "block4_conv2 (Conv2D)        (None, 18, 18, 512)       2359808   \n",
            "_________________________________________________________________\n",
            "block4_conv3 (Conv2D)        (None, 18, 18, 512)       2359808   \n",
            "_________________________________________________________________\n",
            "block4_pool (MaxPooling2D)   (None, 9, 9, 512)         0         \n",
            "_________________________________________________________________\n",
            "block5_conv1 (Conv2D)        (None, 9, 9, 512)         2359808   \n",
            "_________________________________________________________________\n",
            "block5_conv2 (Conv2D)        (None, 9, 9, 512)         2359808   \n",
            "_________________________________________________________________\n",
            "block5_conv3 (Conv2D)        (None, 9, 9, 512)         2359808   \n",
            "_________________________________________________________________\n",
            "block5_pool (MaxPooling2D)   (None, 4, 4, 512)         0         \n",
            "_________________________________________________________________\n",
            "sequential_1 (Sequential)    (None, 3)                 2098179   \n",
            "=================================================================\n",
            "Total params: 16,812,867\n",
            "Trainable params: 16,812,867\n",
            "Non-trainable params: 0\n",
            "_________________________________________________________________\n",
            "None\n"
          ],
          "name": "stdout"
        }
      ]
    },
    {
      "metadata": {
        "id": "F6SqdbmcUwn-",
        "colab_type": "code",
        "outputId": "99bfedc6-4cfd-439a-d7aa-a1a69c27d248",
        "colab": {
          "base_uri": "https://localhost:8080/",
          "height": 69
        }
      },
      "cell_type": "code",
      "source": [
        "load_model_weights_history('1ASgzfs4DuWqt3Ybdqvf7-3gmipIAxuJk',\"1AFJSCMJ4nFrvT5I4Hh1tKHBd1IdhMXJc\",'1kqkVCEG6x-rfoFclGZKS67ts_ZChAdqG')"
      ],
      "execution_count": 0,
      "outputs": [
        {
          "output_type": "stream",
          "text": [
            "vgg16_retrain_model.h5\n",
            "vgg_retrain_weight.h5\n",
            "vgg_retrain_history.npy\n"
          ],
          "name": "stdout"
        }
      ]
    },
    {
      "metadata": {
        "id": "9VMNjRMIVqPu",
        "colab_type": "code",
        "colab": {}
      },
      "cell_type": "code",
      "source": [
        "trained_model.load_weights(retrain_model_weight)\n",
        "trained_model.compile(loss='categorical_crossentropy',\n",
        "                  optimizer=optimizers.SGD(lr=1e-4, momentum=0.9),\n",
        "                  metrics=['accuracy'])"
      ],
      "execution_count": 0,
      "outputs": []
    },
    {
      "metadata": {
        "id": "sbrdrne31rrb",
        "colab_type": "code",
        "colab": {}
      },
      "cell_type": "code",
      "source": [
        "#def testsetperformance():\n",
        "from sklearn.metrics import accuracy_score\n",
        "from sklearn.metrics import confusion_matrix\n",
        "import seaborn as sns\n",
        "#load the weight  need to store the weight first!!\n",
        "def accandconfusion(weigts_path,directory):\n",
        "    input_tensor = Input(shape=(img_width, img_height,3))\n",
        "    base_model = VGG16(weights='imagenet',include_top= False,input_tensor=input_tensor)\n",
        "    top_model = Sequential()\n",
        "    top_model.add(Flatten(input_shape=base_model.output_shape[1:]))\n",
        "    top_model.add(Dense(256, activation='relu'))\n",
        "    top_model.add(Dropout(0.5))\n",
        "    top_model.add(Dense(num_classes, activation='softmax'))\n",
        "    top_model.load_weights(weigts_path)\n",
        "    model = Model(inputs= base_model.input, outputs= top_model(base_model.output))\n",
        "    model.compile(loss='categorical_crossentropy',\n",
        "                  optimizer='rmsprop',\n",
        "                  metrics=['accuracy'])\n",
        "    \n",
        "#     generator = datagen.flow_from_directory(\n",
        "#         train_data_dir,\n",
        "#         target_size=(img_width, img_height),\n",
        "#         batch_size=batch_size,\n",
        "#         class_mode=None,\n",
        "#         shuffle=False)\n",
        "#     bottleneck_features_train = model.predict_generator(\n",
        "#         generator, nb_train_samples // batch_size)\n",
        "    \n",
        "    \n",
        "    \n",
        "#     optimizer=optimizers.SGD(lr=1e-4, momentum=0.9),\n",
        "    img_data_list=[]\n",
        "    classsize = []\n",
        "    print(directory)\n",
        "    for dataset in data_dir_list:\n",
        "        img_list=os.listdir(directory+'/'+ dataset)\n",
        "        img_list=img_list[:100]\n",
        "        classsize.append(len(img_list))\n",
        "        print ('Loaded the images of dataset-'+'{}\\n'.format(dataset))\n",
        "        for img in img_list:\n",
        "            #print(img)\n",
        "            img_path = directory + '/'+ dataset + '/'+ img\n",
        "            img = image.load_img(img_path, target_size=(img_width, img_height))\n",
        "            x = image.img_to_array(img)\n",
        "            x = np.expand_dims(x, axis=0)\n",
        "            x = preprocess_input(x)\n",
        "            #x = x/255 should we do this in preprocession?\n",
        "            #print('Input image shape:', x.shape)\n",
        "            img_data_list.append(x)\n",
        "\n",
        "\n",
        "    img_data = np.array(img_data_list)\n",
        "    #img_data = img_data.astype('float32')\n",
        "    print (img_data.shape)\n",
        "    img_data=np.rollaxis(img_data,1,0)\n",
        "    print (img_data.shape)\n",
        "    img_data=img_data[0]\n",
        "    print (img_data.shape)        \n",
        "\n",
        "\n",
        "\n",
        "    test_labels = np.ones((np.sum(classsize),),dtype='int64')\n",
        "    test_labels[0:classsize[0]-1]=0\n",
        "    test_labels[classsize[0]:classsize[0]+classsize[1]-1]=1\n",
        "    test_labels[classsize[0]+classsize[1]:]=2        \n",
        "    nb_testing_samples = np.sum(classsize)\n",
        "\n",
        "    # convert class labels to on-hot encoding\n",
        "    Y_test = np_utils.to_categorical(test_labels, num_classes)        \n",
        "    x,y = shuffle(img_data,Y_test, random_state=2)\n",
        "    (loss, accuracy) = model.evaluate(x, y, batch_size=12, verbose=1)\n",
        "    print(\"[INFO] loss={:.4f}, accuracy: {:.4f}%\".format(loss,accuracy * 100))\n",
        "    y_pred= model.predict(x)\n",
        "    cm = confusion_matrix(np.argmax(y,1), np.argmax(y_pred,1))\n",
        "    #cm = cm / np.sum(cm,1)\n",
        "    plt.figure()\n",
        "    xticks =data_dir_list\n",
        "    plt.title(\"confusion matrix of resnet with retraining\")\n",
        "    heatmap = sns.heatmap(cm, xticklabels=data_dir_list,yticklabels=data_dir_list,annot=True, )\n",
        "    plt.show() "
      ],
      "execution_count": 0,
      "outputs": []
    },
    {
      "metadata": {
        "id": "hkizZXPEy_Mv",
        "colab_type": "code",
        "outputId": "a73ed09a-66b2-46a6-b2ff-8b9ba77b0ce7",
        "colab": {
          "base_uri": "https://localhost:8080/",
          "height": 758
        }
      },
      "cell_type": "code",
      "source": [
        "accandconfusion(top_model_weights_path,testing_data_dir)"
      ],
      "execution_count": 16,
      "outputs": [
        {
          "output_type": "error",
          "ename": "OSError",
          "evalue": "ignored",
          "traceback": [
            "\u001b[0;31m---------------------------------------------------------------------------\u001b[0m",
            "\u001b[0;31mOSError\u001b[0m                                   Traceback (most recent call last)",
            "\u001b[0;32m<ipython-input-16-9c0ad7ee5e85>\u001b[0m in \u001b[0;36m<module>\u001b[0;34m()\u001b[0m\n\u001b[0;32m----> 1\u001b[0;31m \u001b[0maccandconfusion\u001b[0m\u001b[0;34m(\u001b[0m\u001b[0mtop_model_weights_path\u001b[0m\u001b[0;34m,\u001b[0m\u001b[0mtesting_data_dir\u001b[0m\u001b[0;34m)\u001b[0m\u001b[0;34m\u001b[0m\u001b[0;34m\u001b[0m\u001b[0m\n\u001b[0m",
            "\u001b[0;32m<ipython-input-15-4055c78a7cf8>\u001b[0m in \u001b[0;36maccandconfusion\u001b[0;34m(weigts_path, directory)\u001b[0m\n\u001b[1;32m     11\u001b[0m     \u001b[0mtop_model\u001b[0m\u001b[0;34m.\u001b[0m\u001b[0madd\u001b[0m\u001b[0;34m(\u001b[0m\u001b[0mDropout\u001b[0m\u001b[0;34m(\u001b[0m\u001b[0;36m0.5\u001b[0m\u001b[0;34m)\u001b[0m\u001b[0;34m)\u001b[0m\u001b[0;34m\u001b[0m\u001b[0;34m\u001b[0m\u001b[0m\n\u001b[1;32m     12\u001b[0m     \u001b[0mtop_model\u001b[0m\u001b[0;34m.\u001b[0m\u001b[0madd\u001b[0m\u001b[0;34m(\u001b[0m\u001b[0mDense\u001b[0m\u001b[0;34m(\u001b[0m\u001b[0mnum_classes\u001b[0m\u001b[0;34m,\u001b[0m \u001b[0mactivation\u001b[0m\u001b[0;34m=\u001b[0m\u001b[0;34m'softmax'\u001b[0m\u001b[0;34m)\u001b[0m\u001b[0;34m)\u001b[0m\u001b[0;34m\u001b[0m\u001b[0;34m\u001b[0m\u001b[0m\n\u001b[0;32m---> 13\u001b[0;31m     \u001b[0mtop_model\u001b[0m\u001b[0;34m.\u001b[0m\u001b[0mload_weights\u001b[0m\u001b[0;34m(\u001b[0m\u001b[0mweigts_path\u001b[0m\u001b[0;34m)\u001b[0m\u001b[0;34m\u001b[0m\u001b[0;34m\u001b[0m\u001b[0m\n\u001b[0m\u001b[1;32m     14\u001b[0m     \u001b[0mmodel\u001b[0m \u001b[0;34m=\u001b[0m \u001b[0mModel\u001b[0m\u001b[0;34m(\u001b[0m\u001b[0minputs\u001b[0m\u001b[0;34m=\u001b[0m \u001b[0mbase_model\u001b[0m\u001b[0;34m.\u001b[0m\u001b[0minput\u001b[0m\u001b[0;34m,\u001b[0m \u001b[0moutputs\u001b[0m\u001b[0;34m=\u001b[0m \u001b[0mtop_model\u001b[0m\u001b[0;34m(\u001b[0m\u001b[0mbase_model\u001b[0m\u001b[0;34m.\u001b[0m\u001b[0moutput\u001b[0m\u001b[0;34m)\u001b[0m\u001b[0;34m)\u001b[0m\u001b[0;34m\u001b[0m\u001b[0;34m\u001b[0m\u001b[0m\n\u001b[1;32m     15\u001b[0m     model.compile(loss='categorical_crossentropy',\n",
            "\u001b[0;32m/usr/local/lib/python3.6/dist-packages/tensorflow/python/keras/engine/network.py\u001b[0m in \u001b[0;36mload_weights\u001b[0;34m(self, filepath, by_name)\u001b[0m\n\u001b[1;32m   1508\u001b[0m           \u001b[0;34m'Model which has not created its variables yet. Call the Model '\u001b[0m\u001b[0;34m\u001b[0m\u001b[0;34m\u001b[0m\u001b[0m\n\u001b[1;32m   1509\u001b[0m           'first, then load the weights.')\n\u001b[0;32m-> 1510\u001b[0;31m     \u001b[0;32mwith\u001b[0m \u001b[0mh5py\u001b[0m\u001b[0;34m.\u001b[0m\u001b[0mFile\u001b[0m\u001b[0;34m(\u001b[0m\u001b[0mfilepath\u001b[0m\u001b[0;34m,\u001b[0m \u001b[0;34m'r'\u001b[0m\u001b[0;34m)\u001b[0m \u001b[0;32mas\u001b[0m \u001b[0mf\u001b[0m\u001b[0;34m:\u001b[0m\u001b[0;34m\u001b[0m\u001b[0;34m\u001b[0m\u001b[0m\n\u001b[0m\u001b[1;32m   1511\u001b[0m       \u001b[0;32mif\u001b[0m \u001b[0;34m'layer_names'\u001b[0m \u001b[0;32mnot\u001b[0m \u001b[0;32min\u001b[0m \u001b[0mf\u001b[0m\u001b[0;34m.\u001b[0m\u001b[0mattrs\u001b[0m \u001b[0;32mand\u001b[0m \u001b[0;34m'model_weights'\u001b[0m \u001b[0;32min\u001b[0m \u001b[0mf\u001b[0m\u001b[0;34m:\u001b[0m\u001b[0;34m\u001b[0m\u001b[0;34m\u001b[0m\u001b[0m\n\u001b[1;32m   1512\u001b[0m         \u001b[0mf\u001b[0m \u001b[0;34m=\u001b[0m \u001b[0mf\u001b[0m\u001b[0;34m[\u001b[0m\u001b[0;34m'model_weights'\u001b[0m\u001b[0;34m]\u001b[0m\u001b[0;34m\u001b[0m\u001b[0;34m\u001b[0m\u001b[0m\n",
            "\u001b[0;32m/usr/local/lib/python3.6/dist-packages/h5py/_hl/files.py\u001b[0m in \u001b[0;36m__init__\u001b[0;34m(self, name, mode, driver, libver, userblock_size, swmr, **kwds)\u001b[0m\n\u001b[1;32m    310\u001b[0m             \u001b[0;32mwith\u001b[0m \u001b[0mphil\u001b[0m\u001b[0;34m:\u001b[0m\u001b[0;34m\u001b[0m\u001b[0;34m\u001b[0m\u001b[0m\n\u001b[1;32m    311\u001b[0m                 \u001b[0mfapl\u001b[0m \u001b[0;34m=\u001b[0m \u001b[0mmake_fapl\u001b[0m\u001b[0;34m(\u001b[0m\u001b[0mdriver\u001b[0m\u001b[0;34m,\u001b[0m \u001b[0mlibver\u001b[0m\u001b[0;34m,\u001b[0m \u001b[0;34m**\u001b[0m\u001b[0mkwds\u001b[0m\u001b[0;34m)\u001b[0m\u001b[0;34m\u001b[0m\u001b[0;34m\u001b[0m\u001b[0m\n\u001b[0;32m--> 312\u001b[0;31m                 \u001b[0mfid\u001b[0m \u001b[0;34m=\u001b[0m \u001b[0mmake_fid\u001b[0m\u001b[0;34m(\u001b[0m\u001b[0mname\u001b[0m\u001b[0;34m,\u001b[0m \u001b[0mmode\u001b[0m\u001b[0;34m,\u001b[0m \u001b[0muserblock_size\u001b[0m\u001b[0;34m,\u001b[0m \u001b[0mfapl\u001b[0m\u001b[0;34m,\u001b[0m \u001b[0mswmr\u001b[0m\u001b[0;34m=\u001b[0m\u001b[0mswmr\u001b[0m\u001b[0;34m)\u001b[0m\u001b[0;34m\u001b[0m\u001b[0;34m\u001b[0m\u001b[0m\n\u001b[0m\u001b[1;32m    313\u001b[0m \u001b[0;34m\u001b[0m\u001b[0m\n\u001b[1;32m    314\u001b[0m                 \u001b[0;32mif\u001b[0m \u001b[0mswmr_support\u001b[0m\u001b[0;34m:\u001b[0m\u001b[0;34m\u001b[0m\u001b[0;34m\u001b[0m\u001b[0m\n",
            "\u001b[0;32m/usr/local/lib/python3.6/dist-packages/h5py/_hl/files.py\u001b[0m in \u001b[0;36mmake_fid\u001b[0;34m(name, mode, userblock_size, fapl, fcpl, swmr)\u001b[0m\n\u001b[1;32m    140\u001b[0m         \u001b[0;32mif\u001b[0m \u001b[0mswmr\u001b[0m \u001b[0;32mand\u001b[0m \u001b[0mswmr_support\u001b[0m\u001b[0;34m:\u001b[0m\u001b[0;34m\u001b[0m\u001b[0;34m\u001b[0m\u001b[0m\n\u001b[1;32m    141\u001b[0m             \u001b[0mflags\u001b[0m \u001b[0;34m|=\u001b[0m \u001b[0mh5f\u001b[0m\u001b[0;34m.\u001b[0m\u001b[0mACC_SWMR_READ\u001b[0m\u001b[0;34m\u001b[0m\u001b[0;34m\u001b[0m\u001b[0m\n\u001b[0;32m--> 142\u001b[0;31m         \u001b[0mfid\u001b[0m \u001b[0;34m=\u001b[0m \u001b[0mh5f\u001b[0m\u001b[0;34m.\u001b[0m\u001b[0mopen\u001b[0m\u001b[0;34m(\u001b[0m\u001b[0mname\u001b[0m\u001b[0;34m,\u001b[0m \u001b[0mflags\u001b[0m\u001b[0;34m,\u001b[0m \u001b[0mfapl\u001b[0m\u001b[0;34m=\u001b[0m\u001b[0mfapl\u001b[0m\u001b[0;34m)\u001b[0m\u001b[0;34m\u001b[0m\u001b[0;34m\u001b[0m\u001b[0m\n\u001b[0m\u001b[1;32m    143\u001b[0m     \u001b[0;32melif\u001b[0m \u001b[0mmode\u001b[0m \u001b[0;34m==\u001b[0m \u001b[0;34m'r+'\u001b[0m\u001b[0;34m:\u001b[0m\u001b[0;34m\u001b[0m\u001b[0;34m\u001b[0m\u001b[0m\n\u001b[1;32m    144\u001b[0m         \u001b[0mfid\u001b[0m \u001b[0;34m=\u001b[0m \u001b[0mh5f\u001b[0m\u001b[0;34m.\u001b[0m\u001b[0mopen\u001b[0m\u001b[0;34m(\u001b[0m\u001b[0mname\u001b[0m\u001b[0;34m,\u001b[0m \u001b[0mh5f\u001b[0m\u001b[0;34m.\u001b[0m\u001b[0mACC_RDWR\u001b[0m\u001b[0;34m,\u001b[0m \u001b[0mfapl\u001b[0m\u001b[0;34m=\u001b[0m\u001b[0mfapl\u001b[0m\u001b[0;34m)\u001b[0m\u001b[0;34m\u001b[0m\u001b[0;34m\u001b[0m\u001b[0m\n",
            "\u001b[0;32mh5py/_objects.pyx\u001b[0m in \u001b[0;36mh5py._objects.with_phil.wrapper\u001b[0;34m()\u001b[0m\n",
            "\u001b[0;32mh5py/_objects.pyx\u001b[0m in \u001b[0;36mh5py._objects.with_phil.wrapper\u001b[0;34m()\u001b[0m\n",
            "\u001b[0;32mh5py/h5f.pyx\u001b[0m in \u001b[0;36mh5py.h5f.open\u001b[0;34m()\u001b[0m\n",
            "\u001b[0;31mOSError\u001b[0m: Unable to open file (unable to open file: name = 'vgg_top_model_weight_20190312.h5', errno = 2, error message = 'No such file or directory', flags = 0, o_flags = 0)"
          ]
        }
      ]
    },
    {
      "metadata": {
        "id": "VEKCkYUxXBRD",
        "colab_type": "code",
        "outputId": "c299c968-5055-4b91-9302-038e0ee76837",
        "colab": {
          "base_uri": "https://localhost:8080/",
          "height": 660
        }
      },
      "cell_type": "code",
      "source": [
        "accandconfusion(top_model_weights_path_test,testing_data_dir)"
      ],
      "execution_count": 0,
      "outputs": [
        {
          "output_type": "stream",
          "text": [
            "/content/gdrive/My Drive/sdp/dataset_new/test_real\n",
            "Loaded the images of dataset-glass\n",
            "\n",
            "Loaded the images of dataset-metal\n",
            "\n",
            "Loaded the images of dataset-plastic\n",
            "\n",
            "(300, 1, 150, 150, 3)\n",
            "(1, 300, 150, 150, 3)\n",
            "(300, 150, 150, 3)\n",
            "300/300 [==============================] - 2s 8ms/sample - loss: 11.1284 - acc: 0.3067\n",
            "[INFO] loss=11.1284, accuracy: 30.6667%\n"
          ],
          "name": "stdout"
        },
        {
          "output_type": "display_data",
          "data": {
            "image/png": "[encoded data removed]",
            "text/plain": [
              "<Figure size 640x480 with 2 Axes>"
            ]
          },
          "metadata": {
            "tags": []
          }
        }
      ]
    },
    {
      "metadata": {
        "id": "fKHROD5rIx97",
        "colab_type": "code",
        "outputId": "e06d9881-ffa1-4ceb-f883-0c6ebb48273d",
        "colab": {
          "base_uri": "https://localhost:8080/",
          "height": 167
        }
      },
      "cell_type": "code",
      "source": [
        "testingaccandconfusion()"
      ],
      "execution_count": 12,
      "outputs": [
        {
          "output_type": "error",
          "ename": "NameError",
          "evalue": "ignored",
          "traceback": [
            "\u001b[0;31m---------------------------------------------------------------------------\u001b[0m",
            "\u001b[0;31mNameError\u001b[0m                                 Traceback (most recent call last)",
            "\u001b[0;32m<ipython-input-12-34d60d2e4886>\u001b[0m in \u001b[0;36m<module>\u001b[0;34m()\u001b[0m\n\u001b[0;32m----> 1\u001b[0;31m \u001b[0mtestingaccandconfusion\u001b[0m\u001b[0;34m(\u001b[0m\u001b[0;34m)\u001b[0m\u001b[0;34m\u001b[0m\u001b[0;34m\u001b[0m\u001b[0m\n\u001b[0m",
            "\u001b[0;31mNameError\u001b[0m: name 'testingaccandconfusion' is not defined"
          ]
        }
      ]
    },
    {
      "metadata": {
        "id": "gjrCBrjzoSi3",
        "colab_type": "code",
        "outputId": "15f56580-534a-44fa-e51b-c51646bbf077",
        "colab": {
          "base_uri": "https://localhost:8080/",
          "height": 643
        }
      },
      "cell_type": "code",
      "source": [
        "testingaccandconfusion()"
      ],
      "execution_count": 0,
      "outputs": [
        {
          "output_type": "stream",
          "text": [
            "Loaded the images of dataset-glass\n",
            "\n",
            "Loaded the images of dataset-metal\n",
            "\n",
            "Loaded the images of dataset-plastic\n",
            "\n",
            "(506, 1, 150, 150, 3)\n",
            "(1, 506, 150, 150, 3)\n",
            "(506, 150, 150, 3)\n",
            "506/506 [==============================] - 5s 9ms/sample - loss: 10.0658 - acc: 0.3755\n",
            "[INFO] loss=10.0658, accuracy: 37.5494%\n"
          ],
          "name": "stdout"
        },
        {
          "output_type": "display_data",
          "data": {
            "image/png": "[encoded data removed]",
            "text/plain": [
              "<Figure size 640x480 with 2 Axes>"
            ]
          },
          "metadata": {
            "tags": []
          }
        }
      ]
    },
    {
      "metadata": {
        "id": "74j2UidXYDMh",
        "colab_type": "code",
        "colab": {}
      },
      "cell_type": "code",
      "source": [
        "def predict(top_model,img_data):\n",
        "#     img_data = preprocess_input(img_data)\n",
        "#     img_data=np.rollaxis(img_data,1,0)\n",
        "#     img_data=img_data[0]\n",
        "    feature = VGG16(include_top=False, weights='imagenet').predict(img_data)\n",
        "    output=top_model.predict(feature)\n",
        "    return np.argmax(output)\n",
        "\n",
        "def test(model,img_path):\n",
        "    img_data_list=[]            \n",
        "    img = image.load_img(img_path, target_size=(150, 150))\n",
        "    x = image.img_to_array(img)\n",
        "    x = np.expand_dims(x, axis=0)\n",
        "    x = preprocess_input(x)\n",
        "            #x = x/255 should we do this in preprocession?\n",
        "            #print('Input image shape:', x.shape)\n",
        "    img_data_list.append(x)\n",
        "    img_data = np.array(img_data_list)\n",
        "    #img_data = img_data.astype('float32')\n",
        "    print (img_data.shape)\n",
        "    img_data=np.rollaxis(img_data,1,0)\n",
        "    print (img_data.shape)\n",
        "    img_data=img_data[0]\n",
        "    print (img_data.shape)        \n",
        "    return predict(model,img_data)"
      ],
      "execution_count": 0,
      "outputs": []
    },
    {
      "metadata": {
        "id": "PQla9aZLYdEq",
        "colab_type": "code",
        "outputId": "6f5a4893-a847-4e78-da2f-471cadda0c42",
        "colab": {
          "base_uri": "https://localhost:8080/",
          "height": 86
        }
      },
      "cell_type": "code",
      "source": [
        "test(model,\"glass_0_9371.jpeg\")"
      ],
      "execution_count": 0,
      "outputs": [
        {
          "output_type": "stream",
          "text": [
            "(1, 1, 150, 150, 3)\n",
            "(1, 1, 150, 150, 3)\n",
            "(1, 150, 150, 3)\n"
          ],
          "name": "stdout"
        },
        {
          "output_type": "execute_result",
          "data": {
            "text/plain": [
              "0"
            ]
          },
          "metadata": {
            "tags": []
          },
          "execution_count": 47
        }
      ]
    },
    {
      "metadata": {
        "id": "8ZdtAKrj6xve",
        "colab_type": "code",
        "outputId": "ac09fd96-b191-4e77-b3b5-1de84c040bfc",
        "colab": {
          "base_uri": "https://localhost:8080/",
          "height": 34
        }
      },
      "cell_type": "code",
      "source": [
        "X_train = np.load(open('bottleneck_features_vgg_train.npy','rb'))\n",
        "X_train.shape\n"
      ],
      "execution_count": 0,
      "outputs": [
        {
          "output_type": "execute_result",
          "data": {
            "text/plain": [
              "(11612, 4, 4, 512)"
            ]
          },
          "metadata": {
            "tags": []
          },
          "execution_count": 33
        }
      ]
    },
    {
      "metadata": {
        "id": "AxQcYt36DPOw",
        "colab_type": "code",
        "outputId": "1d1ce038-ae1c-4c55-9033-b7ebfe5f9d2d",
        "colab": {
          "base_uri": "https://localhost:8080/",
          "height": 379
        }
      },
      "cell_type": "code",
      "source": [
        "input_tensor = Input(shape=(img_width, img_height,3))\n",
        "base_model = VGG16(weights='imagenet',include_top= False,input_tensor=input_tensor)\n",
        "top_model = Sequential()\n",
        "top_model.add(Flatten(input_shape=base_model.output_shape[1:]))\n",
        "top_model.add(Dense(256, activation='relu'))\n",
        "top_model.add(Dropout(0.5))\n",
        "top_model.add(Dense(num_classes, activation='softmax'))\n",
        "top_model.load_weights(top_model_weights_path)\n",
        "model = Model(inputs= base_model.input, outputs= top_model(base_model.output))\n",
        "model.compile(loss='categorical_crossentropy',\n",
        "                  optimizer=optimizers.SGD(lr=1e-4, momentum=0.9),\n",
        "                  metrics=['accuracy'])\n",
        "(loss, accuracy) = model.evaluate(x, y, batch_size=12, verbose=1)\n",
        "y_pred= model.predict(x)\n",
        "from sklearn.metrics import confusion_matrix\n",
        "cm = confusion_matrix(np.argmax(y,1), np.argmax(y_pred,1))\n",
        "#cm = cm / np.sum(cm,1)\n",
        "import seaborn as sns\n",
        "plt.figure()\n",
        "xticks =data_dir_list\n",
        "plt.title(\"confusion matrix of resnet with retraining\")\n",
        "heatmap = sns.heatmap(cm, xticklabels=data_dir_list,yticklabels=data_dir_list,annot=True, )\n",
        "plt.show() \n"
      ],
      "execution_count": 0,
      "outputs": [
        {
          "output_type": "stream",
          "text": [
            "157/157 [==============================] - 1s 8ms/sample - loss: 11.9089 - acc: 0.2611\n"
          ],
          "name": "stdout"
        },
        {
          "output_type": "display_data",
          "data": {
            "image/png": "[encoded data removed]",
            "text/plain": [
              "<Figure size 576x396 with 2 Axes>"
            ]
          },
          "metadata": {
            "tags": []
          }
        }
      ]
    },
    {
      "metadata": {
        "id": "6cKNRRb68u2m",
        "colab_type": "code",
        "outputId": "91f5e0b6-b636-4e13-d572-a2ab4b74a70d",
        "colab": {
          "base_uri": "https://localhost:8080/",
          "height": 86
        }
      },
      "cell_type": "code",
      "source": [
        "top_model = Sequential()\n",
        "top_model.add(Flatten(input_shape=base_model.output_shape[1:]))\n",
        "print(top_model.output_shape)\n",
        "top_model.add(Dense(256, activation='relu'))\n",
        "print(top_model.output_shape)\n",
        "\n",
        "top_model.add(Dropout(0.5))\n",
        "print(top_model.output_shape)\n",
        "\n",
        "top_model.add(Dense(num_classes, activation='softmax'))\n",
        "print(top_model.output_shape)\n"
      ],
      "execution_count": 0,
      "outputs": [
        {
          "output_type": "stream",
          "text": [
            "(None, 8192)\n",
            "(None, 256)\n",
            "(None, 256)\n",
            "(None, 3)\n"
          ],
          "name": "stdout"
        }
      ]
    },
    {
      "metadata": {
        "id": "3XAuj3JPtt0S",
        "colab_type": "code",
        "outputId": "0ffd566b-b458-4140-8ef9-11bb9141ac1b",
        "colab": {
          "base_uri": "https://localhost:8080/",
          "height": 34
        }
      },
      "cell_type": "code",
      "source": [
        "Y_test.shape"
      ],
      "execution_count": 0,
      "outputs": [
        {
          "output_type": "execute_result",
          "data": {
            "text/plain": [
              "(2905, 3)"
            ]
          },
          "metadata": {
            "tags": []
          },
          "execution_count": 35
        }
      ]
    },
    {
      "metadata": {
        "id": "gi5F41Dqturw",
        "colab_type": "code",
        "colab": {}
      },
      "cell_type": "code",
      "source": [
        "l =[1,23,3]"
      ],
      "execution_count": 0,
      "outputs": []
    },
    {
      "metadata": {
        "id": "82El30dS139I",
        "colab_type": "code",
        "outputId": "134019d8-cb57-4434-8a9e-92de0d8af3e2",
        "colab": {
          "base_uri": "https://localhost:8080/",
          "height": 34
        }
      },
      "cell_type": "code",
      "source": [
        "l[:100]"
      ],
      "execution_count": 0,
      "outputs": [
        {
          "output_type": "execute_result",
          "data": {
            "text/plain": [
              "[1, 23, 3]"
            ]
          },
          "metadata": {
            "tags": []
          },
          "execution_count": 102
        }
      ]
    },
    {
      "metadata": {
        "id": "m6xRGsO015TG",
        "colab_type": "code",
        "outputId": "47f98e74-ab24-448e-a70a-04eb8fca747c",
        "colab": {
          "base_uri": "https://localhost:8080/",
          "height": 34
        }
      },
      "cell_type": "code",
      "source": [
        "model"
      ],
      "execution_count": 0,
      "outputs": [
        {
          "output_type": "execute_result",
          "data": {
            "text/plain": [
              "<tensorflow.python.keras.engine.sequential.Sequential at 0x7fa594d357b8>"
            ]
          },
          "metadata": {
            "tags": []
          },
          "execution_count": 44
        }
      ]
    },
    {
      "metadata": {
        "id": "g8lgVr5rZkGe",
        "colab_type": "code",
        "colab": {}
      },
      "cell_type": "code",
      "source": [
        ""
      ],
      "execution_count": 0,
      "outputs": []
    }
  ]
}