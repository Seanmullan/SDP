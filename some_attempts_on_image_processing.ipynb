{
 "cells": [
  {
   "cell_type": "markdown",
   "metadata": {},
   "source": [
    "using cv2.absdiff to directly subtract"
   ]
  },
  {
   "cell_type": "code",
   "execution_count": null,
   "metadata": {},
   "outputs": [],
   "source": [
    "import cv2\n",
    "import numpy as np\n",
    "from matplotlib import pyplot as plt"
   ]
  },
  {
   "cell_type": "code",
   "execution_count": null,
   "metadata": {},
   "outputs": [],
   "source": [
    "img_ori = cv2.imread('/afs/inf.ed.ac.uk/user/s18/s1891132/Downloads/p_ori.jpg')\n",
    "img_new = cv2.imread('/afs/inf.ed.ac.uk/user/s18/s1891132/Downloads/p_new.jpg')"
   ]
  },
  {
   "cell_type": "code",
   "execution_count": null,
   "metadata": {},
   "outputs": [],
   "source": [
    "img_ori.dtype"
   ]
  },
  {
   "cell_type": "code",
   "execution_count": null,
   "metadata": {},
   "outputs": [],
   "source": [
    "diff = cv2.absdiff(img_ori, img_new)\n",
    "hsv_diff = cv2.cvtColor(diff,cv2.COLOR_BGR2HSV)"
   ]
  },
  {
   "cell_type": "code",
   "execution_count": null,
   "metadata": {},
   "outputs": [],
   "source": [
    "lower = np.array([0,0,0])\n",
    "upper=np.array([180,255,30])\n",
    "mask=cv2.inRange(diff,lower,upper)"
   ]
  },
  {
   "cell_type": "code",
   "execution_count": null,
   "metadata": {},
   "outputs": [],
   "source": [
    "res = cv2.bitwise_not(diff,diff, mask= mask)"
   ]
  },
  {
   "cell_type": "code",
   "execution_count": null,
   "metadata": {},
   "outputs": [],
   "source": [
    "#plot the histogram\n",
    "\n",
    "color = ('b','g','r')\n",
    "thr=np.zeros(3)\n",
    "for i,col in enumerate(color):\n",
    "    histr = cv2.calcHist([diff],[i],None,[256],[0,256])\n",
    "    thr[i]=np.argmax(histr)\n",
    "    plt.plot(histr,color = col)\n",
    "    plt.xlim([0,256])\n",
    "plt.show()"
   ]
  },
  {
   "cell_type": "code",
   "execution_count": null,
   "metadata": {},
   "outputs": [],
   "source": [
    "lower = np.array([0,0,0])\n",
    "upper=np.array([50,50,50])\n",
    "mask=cv2.inRange(diff,lower,upper)"
   ]
  },
  {
   "cell_type": "code",
   "execution_count": null,
   "metadata": {},
   "outputs": [],
   "source": [
    "res = cv2.bitwise_not(diff,diff, mask= mask)"
   ]
  },
  {
   "cell_type": "code",
   "execution_count": null,
   "metadata": {},
   "outputs": [],
   "source": [
    "res_resize = cv2.resize(res, (450, 600)) \n",
    "cv2.imshow('res',res_resize)\n",
    "cv2.waitKey(10)"
   ]
  },
  {
   "cell_type": "markdown",
   "metadata": {},
   "source": [
    "Try using cv.bgsegm.createBackgroundSubtractorMOG() (default BGS by openCV)"
   ]
  },
  {
   "cell_type": "code",
   "execution_count": null,
   "metadata": {},
   "outputs": [],
   "source": [
    "import numpy as np\n",
    "import cv2 as cv\n",
    "cap = cv.VideoCapture('/afs/inf.ed.ac.uk/user/s18/s1891132/Downloads/sub.mov')\n",
    "fgbg = cv.bgsegm.createBackgroundSubtractorMOG()\n",
    "while(1):\n",
    "    ret, frame = cap.read()\n",
    "    fgmask = fgbg.apply(frame)\n",
    "    cv.imshow('frame',fgmask)\n",
    "    k = cv.waitKey(30) & 0xff\n",
    "    if k == 27:\n",
    "        break\n",
    "cap.release()\n",
    "cv.destroyAllWindows()"
   ]
  },
  {
   "cell_type": "markdown",
   "metadata": {},
   "source": [
    "Try to find the contours of the object"
   ]
  },
  {
   "cell_type": "code",
   "execution_count": null,
   "metadata": {},
   "outputs": [],
   "source": [
    "import cv2\n",
    "import numpy as np\n",
    "image= cv2.imread('/afs/inf.ed.ac.uk/user/s18/s1891132/Downloads/spirit_new.jpg')\n",
    "image = cv2.resize(image, (450, 600)) \n",
    "blurred=cv2.pyrMeanShiftFiltering(image,31,91)\n",
    "gray=cv2.cvtColor(blurred,cv2.COLOR_BGR2GRAY)\n",
    "ret,threshold=cv2.threshold(gray,0,255,cv2.THRESH_BINARY+cv2.THRESH_OTSU)\n",
    "contours,hierarchy=cv2.findContours(threshold,cv2.RETR_LIST,cv2.CHAIN_APPROX_NONE)\n",
    "print(len(contours))\n",
    "cv2.drawContours(image,contours,0,(0,0,255),6)\n",
    "cv2.imshow('Display',image)\n",
    "cv2.waitKey(10)"
   ]
  }
 ],
 "metadata": {
  "kernelspec": {
   "display_name": "Python 2",
   "language": "python",
   "name": "python2"
  },
  "language_info": {
   "codemirror_mode": {
    "name": "ipython",
    "version": 2
   },
   "file_extension": ".py",
   "mimetype": "text/x-python",
   "name": "python",
   "nbconvert_exporter": "python",
   "pygments_lexer": "ipython2",
   "version": "2.7.15"
  }
 },
 "nbformat": 4,
 "nbformat_minor": 2
}
